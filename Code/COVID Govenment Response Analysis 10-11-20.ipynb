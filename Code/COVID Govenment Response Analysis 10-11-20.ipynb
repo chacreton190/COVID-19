{
 "cells": [
  {
   "cell_type": "markdown",
   "metadata": {},
   "source": [
    "# COVID Government Response Paper Data Analysis"
   ]
  },
  {
   "cell_type": "markdown",
   "metadata": {},
   "source": [
    "# TO DO:\n",
    "\n",
    "\n",
    "- [ ] Need to explore the missingness of the Oxford data. Sort the countries by GDP and examine what the missingness matrix looks like. **If you could run imputation on this data then you would have a major leg up on the other paper working on the similar topic. (on to of the other benefits to your paper)**\n",
    "- [ ] Continue to update this **[file](https://1drv.ms/x/s!AjWX5HOdYY23kf9x5S7g8LKLGlseVg?e=992nsi)** of data source locations \n",
    "- [ ] \n",
    "- [ ] "
   ]
  },
  {
   "cell_type": "code",
   "execution_count": 1,
   "metadata": {},
   "outputs": [],
   "source": [
    "import pandas as pd\n",
    "import matplotlib.pyplot as plt\n",
    "%matplotlib inline\n",
    "from matplotlib.pylab import rcParams\n",
    "rcParams['figure.figsize'] =10 ,6\n",
    "import numpy as np\n",
    "import seaborn as sns\n",
    "import datetime\n",
    "from matplotlib.pyplot import figure\n",
    "import os\n",
    "from pathlib import Path\n",
    "import shutil\n",
    "import missingno as msno"
   ]
  },
  {
   "cell_type": "code",
   "execution_count": 2,
   "metadata": {},
   "outputs": [],
   "source": [
    "data_path = '..\\Modified Data Sets'\n",
    "control_data_path = '..\\Control Data'\n",
    "graphics_path = '..\\graphics'"
   ]
  },
  {
   "cell_type": "code",
   "execution_count": 3,
   "metadata": {},
   "outputs": [],
   "source": [
    "df = pd.read_excel(f'{data_path}\\Final COVID Data Set (Through 2020-09-29) (ver2).xlsx')"
   ]
  },
  {
   "cell_type": "code",
   "execution_count": null,
   "metadata": {},
   "outputs": [],
   "source": [
    "df = df.loc[~df.case_count.isnull()].copy()\n",
    "df['dup'] = df.duplicated(['country'],keep='last')"
   ]
  },
  {
   "cell_type": "code",
   "execution_count": null,
   "metadata": {},
   "outputs": [],
   "source": [
    "df.columns"
   ]
  },
  {
   "cell_type": "code",
   "execution_count": null,
   "metadata": {},
   "outputs": [],
   "source": [
    "miss_anal = df.loc[~df.dup]\n",
    "miss_anal = miss_anal.loc[~miss_anal.quarantine_efficiency.isnull()]"
   ]
  },
  {
   "cell_type": "code",
   "execution_count": null,
   "metadata": {},
   "outputs": [],
   "source": [
    "miss_anal.shape"
   ]
  },
  {
   "cell_type": "code",
   "execution_count": null,
   "metadata": {},
   "outputs": [],
   "source": [
    "df_indexed = df.set_index('date')\n",
    "# df_indexed.case_count.fillna()"
   ]
  },
  {
   "cell_type": "code",
   "execution_count": null,
   "metadata": {},
   "outputs": [],
   "source": [
    "df_indexed.columns"
   ]
  },
  {
   "cell_type": "markdown",
   "metadata": {},
   "source": [
    "> ### Evaluating Stationality"
   ]
  },
  {
   "cell_type": "code",
   "execution_count": null,
   "metadata": {},
   "outputs": [],
   "source": [
    "# from statsmodels.tsa.stattools import adfuller\n",
    "# dftest = adfuller(df_indexed.case_count,autolag='AIC')\n",
    "# dfoutput = pd.Series(dftest[0:4], index = ['Test Statistic', 'p-value', '#Lags Used', 'n'])\n",
    "# for key,value in dftest[4].items():\n",
    "#     dfoutput[f'Critical Value ({key})']= value\n",
    "# print(dfoutput)"
   ]
  },
  {
   "cell_type": "code",
   "execution_count": null,
   "metadata": {},
   "outputs": [],
   "source": [
    "sns.lineplot(x = 'date', y ='case_count', hue = 'country', data = df,legend=False)"
   ]
  },
  {
   "cell_type": "code",
   "execution_count": null,
   "metadata": {},
   "outputs": [],
   "source": [
    "sns.lineplot(x = 'date', y ='death_count', hue = 'country', data = df,legend=False)"
   ]
  },
  {
   "cell_type": "code",
   "execution_count": null,
   "metadata": {},
   "outputs": [],
   "source": [
    "rolmean = df_indexed.case_count.rolling(window=7).mean()\n",
    "\n",
    "rolstd = df_indexed.case_count.rolling(window=7).std()\n",
    "rolmean.plot()\n",
    "rolstd.plot()"
   ]
  },
  {
   "cell_type": "code",
   "execution_count": null,
   "metadata": {},
   "outputs": [],
   "source": [
    "rolmean = df_indexed.death_count.rolling(window=7).mean()\n",
    "\n",
    "rolstd = df_indexed.death_count.rolling(window=7).std()\n",
    "mean = plt.plot(rolmean, label='Rolling Mean')\n",
    "std = plt.plot(rolstd, label='Rolling STD')\n",
    "\n",
    "# death = plt.plot(df_indexed.death_count, label = 'Death Counts')\n",
    "plt.legend(loc='best')\n",
    "plt.title('Rolling Mean & STD')\n",
    "# rolstd.plot()\n",
    "plt.show()"
   ]
  },
  {
   "cell_type": "code",
   "execution_count": null,
   "metadata": {},
   "outputs": [],
   "source": [
    "rolmean = df_indexed.death_count.rolling(window=7).mean()\n",
    "\n",
    "rolstd = df_indexed.death_count.rolling(window=7).std()\n",
    "rolmean.plot( label='Rolling Mean')\n",
    "rolstd.plot( label='Rolling STD')\n",
    "\n",
    "# death = plt.plot(df_indexed.death_count, label = 'Death Counts')\n",
    "plt.legend(loc='best')\n",
    "plt.title('Rolling Mean & STD')\n",
    "# rolstd.plot()\n",
    "plt.show()"
   ]
  },
  {
   "cell_type": "markdown",
   "metadata": {},
   "source": [
    "### Missingness Analysis"
   ]
  },
  {
   "cell_type": "code",
   "execution_count": null,
   "metadata": {},
   "outputs": [],
   "source": [
    "df_nomiss_NEW.country"
   ]
  },
  {
   "cell_type": "markdown",
   "metadata": {},
   "source": [
    ">> ##### Missingness Sorted by GDP Rank"
   ]
  },
  {
   "cell_type": "markdown",
   "metadata": {},
   "source": [
    "### DF with Control Vars from Our World In Data"
   ]
  },
  {
   "cell_type": "markdown",
   "metadata": {},
   "source": [
    ">>> df Without Missing Data Removed"
   ]
  },
  {
   "cell_type": "code",
   "execution_count": null,
   "metadata": {},
   "outputs": [],
   "source": [
    "miss_anal_NEW.sort_values(by='gdp_rank',inplace=True)\n",
    "df_nomiss_NEW = miss_anal_NEW.copy()\n",
    "msno.matrix(df_nomiss_NEW, color=(0.90, 0.00, 0.00))"
   ]
  },
  {
   "cell_type": "markdown",
   "metadata": {},
   "source": [
    ">>> df with nearly complete data"
   ]
  },
  {
   "cell_type": "code",
   "execution_count": null,
   "metadata": {},
   "outputs": [],
   "source": [
    "df_nomiss_NEW.shape"
   ]
  },
  {
   "cell_type": "code",
   "execution_count": null,
   "metadata": {},
   "outputs": [],
   "source": [
    "df_nomiss_NEW_cc = miss_anal_NEW.loc[~miss_anal_NEW.school_close.isnull()].copy()"
   ]
  },
  {
   "cell_type": "code",
   "execution_count": null,
   "metadata": {},
   "outputs": [],
   "source": [
    "df_nomiss_NEW_cc.sort_values(by='gdp_rank',inplace=True)\n",
    "msno.matrix(df_nomiss_NEW_cc, color=(0.30, 0.00, 0.00))"
   ]
  },
  {
   "cell_type": "markdown",
   "metadata": {},
   "source": [
    "## Original Control Variable Data"
   ]
  },
  {
   "cell_type": "code",
   "execution_count": null,
   "metadata": {},
   "outputs": [],
   "source": [
    "miss_anal.sort_values(by='gdp_rank',inplace=True)\n",
    "df_nomiss = miss_anal.loc[~miss_anal.case_count.isnull()].copy()\n",
    "msno.matrix(df_nomiss, color=(0.0, 0.10, 0.00))"
   ]
  },
  {
   "cell_type": "code",
   "execution_count": null,
   "metadata": {},
   "outputs": [],
   "source": [
    "df_nomiss_cc = df_nomiss.loc[~df_nomiss.school_close.isnull()].copy()\n",
    "msno.matrix(df_nomiss_cc, color=(0.0, 0.30, 0.00))\n"
   ]
  },
  {
   "cell_type": "markdown",
   "metadata": {},
   "source": [
    ">> ##### Missingness Sorted by Population"
   ]
  },
  {
   "cell_type": "code",
   "execution_count": null,
   "metadata": {},
   "outputs": [],
   "source": [
    "df_nomiss.sort_values(by='smoking_prevalence_ages_15',inplace=True)\n",
    "msno.matrix(df_nomiss, color=(0.0, 0.00, 0.90))"
   ]
  },
  {
   "cell_type": "code",
   "execution_count": null,
   "metadata": {},
   "outputs": [],
   "source": [
    "df_nomiss.columns"
   ]
  },
  {
   "cell_type": "code",
   "execution_count": null,
   "metadata": {},
   "outputs": [],
   "source": [
    "df_nomiss_NEW.columns"
   ]
  },
  {
   "cell_type": "code",
   "execution_count": null,
   "metadata": {},
   "outputs": [],
   "source": [
    "msno.bar(df_nomiss_NEW, color=(0.0, 0.00, 0.90))"
   ]
  },
  {
   "cell_type": "code",
   "execution_count": null,
   "metadata": {},
   "outputs": [],
   "source": [
    "msno.bar(df_nomiss, color=(0.0, 0.00, 0.90))"
   ]
  },
  {
   "cell_type": "code",
   "execution_count": null,
   "metadata": {},
   "outputs": [],
   "source": [
    "df.columns"
   ]
  },
  {
   "cell_type": "code",
   "execution_count": null,
   "metadata": {},
   "outputs": [],
   "source": [
    "msno.heatmap(df_nomiss)"
   ]
  },
  {
   "cell_type": "code",
   "execution_count": null,
   "metadata": {},
   "outputs": [],
   "source": [
    "msno.dendrogram(df_nomiss)"
   ]
  },
  {
   "cell_type": "code",
   "execution_count": null,
   "metadata": {},
   "outputs": [],
   "source": [
    "msno.dendrogram(df_nomiss_NEW)"
   ]
  },
  {
   "cell_type": "markdown",
   "metadata": {},
   "source": [
    ">### Distribution Analysis"
   ]
  },
  {
   "cell_type": "markdown",
   "metadata": {},
   "source": [
    "# Modeling Analysis"
   ]
  },
  {
   "cell_type": "markdown",
   "metadata": {},
   "source": [
    ">> Model specification"
   ]
  },
  {
   "cell_type": "markdown",
   "metadata": {},
   "source": [
    "\\begin{equation}\n",
    "\\tag{2.13}\n",
    "stack.loss_i = \\alpha_n + \\beta air_i + e_i, \\text{ where } e_i \\sim \\text{N}(0,\\sigma^2) \n",
    "\\end{equation}"
   ]
  },
  {
   "cell_type": "markdown",
   "metadata": {},
   "source": [
    "\\begin{equation}\n",
    "\\tag{2.7}\n",
    "\\begin{bmatrix}stack.loss_1\\\\stack.loss_2\\\\stack.loss_3\\\\stack.loss_4\\end{bmatrix}\n",
    "= \n",
    "\\begin{bmatrix}\n",
    "\\alpha&\\beta&0&0&0\\\\\n",
    "\\alpha&0&\\beta&0&0\\\\\n",
    "\\alpha&0&0&\\beta&0\\\\\n",
    "\\alpha&0&0&0&\\beta\n",
    "\\end{bmatrix}\n",
    "\\begin{bmatrix}1\\\\air_1\\\\air_2\\\\air_3\\\\air_4\\end{bmatrix}\n",
    "+\n",
    "\\begin{bmatrix}e_1\\\\e_2\\\\e_3\\\\e_4\\end{bmatrix}\n",
    "\\end{equation}"
   ]
  },
  {
   "cell_type": "markdown",
   "metadata": {},
   "source": [
    "\\[\\begin{equation}\\tag{2.7}\\begin{bmatrix}stack.loss_1\\\\stack.loss_2\\\\stack.loss_3\\\\stack.loss_4\\end{bmatrix}=\\begin{bmatrix}\\alpha&\\beta&0&0&0\\\\ \\alpha&0&\\beta&0&0\\\\ \\alpha&0&0&\\beta&0\\\\ \\alpha&0&0&0&\\beta\\end{bmatrix}\n",
    "\\end{equation}]"
   ]
  }
 ],
 "metadata": {
  "kernelspec": {
   "display_name": "Python 3",
   "language": "python",
   "name": "python3"
  },
  "language_info": {
   "codemirror_mode": {
    "name": "ipython",
    "version": 3
   },
   "file_extension": ".py",
   "mimetype": "text/x-python",
   "name": "python",
   "nbconvert_exporter": "python",
   "pygments_lexer": "ipython3",
   "version": "3.7.6"
  }
 },
 "nbformat": 4,
 "nbformat_minor": 4
}
