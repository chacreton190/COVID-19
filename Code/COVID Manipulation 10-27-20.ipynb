{
 "cells": [
  {
   "cell_type": "markdown",
   "metadata": {},
   "source": [
    "# Converts the JHU Cumulative Case Count Data to Daily Case Count Data"
   ]
  },
  {
   "cell_type": "markdown",
   "metadata": {},
   "source": [
    "# TO DO:\n",
    "- [ ] Research random effects models in time to event studies \n",
    "- [ ] **The long versions of the death and case datasets have 55,100 rows, but the final data frame has 66,797. Need to understand why and correct, if this is no appropriate**\n",
    "- [ ] **Need to run PCA to justify the method of making SDI**\n",
    "\n",
    "\n",
    "\n",
    "\n",
    "## Completed\n",
    "- [X] Create the social distancing metric for the cumulative incidence data set Calculated as the total number of days with social distancing implemented (either before peak transmission or X # of days after peak transmission (what is the longest recorded in the data set???)* the ordinal value of the social distancing measure, scaled so that the highest recorded value is 100.\n",
    "- [X] Calculate the daily case per 100k population\n",
    "- [X] Calculate the daily death per 100k population\n",
    "- [X] Create the data set that will have the cumulative incidence\n",
    "- [X] **BUT READ** [**THIS ARTICLE**](https://doi.org/10.1101/2020.07.04.20145334) first. It might give you ideas for how to calculate the control measures vars.\n",
    "- [X] Merge in population density data\n",
    "- [X] Lag the rolling mean case & death counts to the serial interval for COVID\n",
    "- [X] Create a data set that will be used for the time to event study. Day 1 for all countries will be the date of their 1st reported case.\n",
    "- [X] There seems to be a problem with the rolling mean calculations. It seems like they are calculated backwards. Probably an issue with the sort before they were created. Make sure they are sorted by country, date\n",
    "- [X] Figure out how to fix the control measure obs that are recorded as '.'\n",
    "- [X] Need to explore the missingness of the Oxford data. Sort the countries by GDP and examine what the missingness matrix looks like. **If you could run imputation on this data then you would have a major leg up on the other paper working on the similar topic. (on to of the other benefits to your paper)**\n",
    "- [X] Write the code that merges in the time series data for the diffent control measures\n",
    "- [X] Write the code merges in the Country Safety Index data\n",
    "- [X] Continue to update this **[file](https://1drv.ms/x/s!AjWX5HOdYY23kf9x5S7g8LKLGlseVg?e=992nsi)** of data source locations \n",
    "- [X] Write the code that lets you convert the US data to long\n",
    "- [X] Write the code that converts the column names in the Oxford data set to match the column names in the JHU dat\n",
    "- [X] Write the code that merges the countries to their offical alpha 3 code in the JHU: **[Link to Codes](https://en.wikipedia.org/wiki/List_of_ISO_3166_country_codes)**\n",
    "- [X] **ALTERNATIVE TO ABOVE** use python-Levenshtein [Docs](https://rawgit.com/ztane/python-Levenshtein/master/docs/Levenshtein.html) distance to match similar country names \n",
    "> would still need to pair the high probability matches \n",
    "- [X] Write the code transposes the combined data with the control measures included"
   ]
  },
  {
   "cell_type": "code",
   "execution_count": 111,
   "metadata": {},
   "outputs": [],
   "source": [
    "import pandas as pd\n",
    "import os\n",
    "import sys\n",
    "import shutil\n",
    "import re\n",
    "import numpy as np"
   ]
  },
  {
   "cell_type": "code",
   "execution_count": 112,
   "metadata": {},
   "outputs": [],
   "source": [
    "import matplotlib.pyplot as plt\n",
    "%matplotlib inline\n",
    "from matplotlib.pylab import rcParams\n",
    "rcParams['figure.figsize'] =15 ,9\n",
    "import seaborn as sns\n",
    "from matplotlib.pyplot import figure\n"
   ]
  },
  {
   "cell_type": "code",
   "execution_count": 113,
   "metadata": {},
   "outputs": [],
   "source": [
    "def Correcting_Col_Names(infile_path, dset):\n",
    "    infile = pd.read_csv(infile_path)\n",
    "    # og_col_list = infile.columns.to_list()\n",
    "    df = pd.DataFrame(infile.columns.to_list())\n",
    "    df['col'] = df[2:].apply(lambda x: pd.to_datetime(x).dt.strftime('X%m/X%d/%Y').str.replace('X0','').str.replace('X',''))\n",
    "    df['col'][0] = 'country'\n",
    "    df['col'][1] = 'country_code'\n",
    "    cols = df.col.to_list()\n",
    "    control = pd.read_csv(infile_path, names = cols, skiprows={0:1})\n",
    "    indexNames = control[ control['country_code'].isna()].index\n",
    "    control.drop(indexNames, inplace=True)\n",
    "    df = controls_transpose(control, dset)\n",
    "    return df"
   ]
  },
  {
   "cell_type": "code",
   "execution_count": 114,
   "metadata": {},
   "outputs": [],
   "source": [
    "def controls_transpose(dset, var):\n",
    "    import re\n",
    "    df = dset.T\n",
    "    df.columns = df.iloc[0]\n",
    "    df.columns =df.columns.str.lower()\n",
    "    df.drop(axis=0, index = {'country', 'country_code'},inplace = True)\n",
    "    df = df.reset_index().rename(columns={'index':'date'})\n",
    "    df = long_maker(df, var)\n",
    "    df.loc[df['country'].str.contains('cape verde',flags= re.IGNORECASE), 'country']= 'cabo verde'\n",
    "    df.loc[df['country'].str.contains('taiwan',flags= re.IGNORECASE), 'country']= 'taiwan'\n",
    "    return df"
   ]
  },
  {
   "cell_type": "code",
   "execution_count": 115,
   "metadata": {},
   "outputs": [],
   "source": [
    "def df_merger(df):\n",
    "    global long_df\n",
    "    long_df = long_df.merge(df, on=['date', 'country'],how='outer')\n",
    "    return long_df"
   ]
  },
  {
   "cell_type": "code",
   "execution_count": 116,
   "metadata": {},
   "outputs": [],
   "source": [
    "def our_world_importer(filename,sheet, year=2017):\n",
    "    df = pd.read_excel(f'{control_data_path}\\\\{filename}.xlsx', sheet_name = sheet)\n",
    "    df = stats_col_renamer(df)\n",
    "    df = df.loc[df.year == year]\n",
    "    df.drop(columns=['entity','year'],inplace=True)\n",
    "    df.dropna(how='any',inplace=True)\n",
    "    return df"
   ]
  },
  {
   "cell_type": "code",
   "execution_count": 117,
   "metadata": {},
   "outputs": [],
   "source": [
    "def long_maker(dset, var):\n",
    "    name_list = dset.columns.to_list()[1:]\n",
    "    long_df = pd.DataFrame(columns = {'date', var, 'country'})\n",
    "    for name in name_list:\n",
    "        df = dset.filter(items={name, 'date'})\n",
    "        df['country'] = name\n",
    "        df.rename(columns={name:var},inplace = True)\n",
    "        long_df = pd.concat([long_df, df],axis=0)\n",
    "    long_df.date = pd.to_datetime(long_df.date)\n",
    "    return long_df.reset_index(drop=True)"
   ]
  },
  {
   "cell_type": "code",
   "execution_count": 118,
   "metadata": {},
   "outputs": [],
   "source": [
    "def peak_date_cleaner(df, peak_id, peak_date, date_offset=1):\n",
    "    \"\"\" Removes the countries with multiple peak dates from the data set\n",
    "    \n",
    "    \"\"\"\n",
    "    df_multi_peak_country = df.loc[(df[peak_id] == 1)].groupby('country')[peak_date].nunique().to_frame()\n",
    "    two_peaks_country = df_multi_peak_country.loc[df_multi_peak_country[peak_date] ==2].index\n",
    "    date_ranges = pd.DataFrame(df.loc[(df[peak_id] == 1)].groupby('country')[peak_date].max() - df.loc[(df[peak_id] == 1)].groupby('country')[peak_date].min()) \n",
    "    date_ranges.rename(columns={peak_date:'peak_range'},inplace =True)\n",
    "    date_ranges.reset_index(inplace=True)\n",
    "    df = df.merge(date_ranges,on='country',how='outer')\n",
    "    df.loc[df.peak_range > pd.to_timedelta('1 day'), f'{peak_date}'] = (finaldf.date.dt.date.max() + pd.DateOffset(days=date_offset))\n",
    "    df.sort_values(by = f'{peak_date}',inplace=True)\n",
    "    df['dup'] = df.duplicated('country',keep='first')\n",
    "    df = df.loc[~df.dup]\n",
    "    df = df.drop(columns=['dup', 'peak_range'])\n",
    "    return df,  date_offset"
   ]
  },
  {
   "cell_type": "code",
   "execution_count": 119,
   "metadata": {},
   "outputs": [],
   "source": [
    "def stats_col_renamer(dframe):\n",
    "    \"\"\"\n",
    "    Tips: This fuction will remove special characters from column headers, replace spaces with columns, \n",
    "    and make all heading lower case\n",
    "\n",
    "    Parameters\n",
    "    ----------\n",
    "    dframe : TYPE Pandas dataframe\n",
    "        DESCRIPTION.\n",
    "\n",
    "    Returns\n",
    "    -------\n",
    "    None.\n",
    "\n",
    "    \"\"\"\n",
    "    \n",
    "    dframe.columns = dframe.columns.str.lower()\n",
    "    dframe.columns = dframe.columns.str.replace('\\s{2,}',' ',regex=True).str.replace('-',' ').str.replace(' ','_').str.replace('[^A-Za-z0-9_]+','',regex=True)\n",
    "    return dframe\n",
    "data_path = r'..\\csse_covid_19_data\\csse_covid_19_time_series'\n",
    "out_data_path = r'..\\Modified Data Sets'\n",
    "control_data_path = '..\\Control Data'\n",
    "case_pre = pd.read_csv(f'{data_path}/time_series_covid19_confirmed_global.csv')\n",
    "death_pre = pd.read_csv(f'{data_path}/time_series_covid19_deaths_global.csv')"
   ]
  },
  {
   "cell_type": "markdown",
   "metadata": {},
   "source": [
    "## Importing the JHU COVID Case Data"
   ]
  },
  {
   "cell_type": "code",
   "execution_count": 120,
   "metadata": {},
   "outputs": [],
   "source": [
    "# case_pre_us = pd.read_csv(f'{data_path}/time_series_covid19_confirmed_US.csv')\n",
    "# death_pre_us = pd.read_csv(f'{data_path}/time_series_covid19_deaths_US.csv')\n",
    "\n",
    "\n",
    "file_list = os.listdir(out_data_path)\n",
    "for files in file_list:\n",
    "    if files.find('.xlsx') >= 0:\n",
    "        shutil.move(f'{out_data_path}/{files}',f'{out_data_path}/ARCHIVE/{files}')\n",
    "def DF_Transform(df, outcome):\n",
    "    global data_path\n",
    "    global out_data_path\n",
    "    \n",
    "    # Data Cleaning\n",
    "    df.drop(labels={'Lat','Long'},axis=1, inplace = True)\n",
    "#     df.loc[df['Country/Region'].str.contains('Congo'), 'Country/Region'] ='Congo'\n",
    "    df.loc[df['Country/Region'].str.contains('Korea, South',flags= re.IGNORECASE), 'Country/Region']= 'South Korea'\n",
    "    df.loc[df['Country/Region'] == ('US'), 'Country/Region']= 'United States'\n",
    "    df.loc[df['Country/Region'].str.contains('taiwan',flags= re.IGNORECASE), 'Country/Region']= 'taiwan'\n",
    "    # Data Manipulation\n",
    "    df = df.groupby(by='Country/Region').sum().T.apply(lambda x: x-x.shift(1),axis=0)\n",
    "    df.rename(columns={'Country/Region':'Date'},inplace=True)\n",
    "    df.columns = df.columns.str.lower()\n",
    "    df = df.reset_index()\n",
    "    df.rename(columns={'index':'date'},inplace= True)\n",
    "    df.date = pd.to_datetime(df.date).dt.date\n",
    "#     df['var'] = outcome[16:]\n",
    "    \n",
    "    filename = f'{out_data_path}/{outcome} (Through {df.date.max()}).xlsx'\n",
    "    df.to_excel(filename, index=False)\n",
    "    return df\n",
    "case = DF_Transform(case_pre, 'Global COVID-19 Case Count')\n",
    "death = DF_Transform(death_pre, 'Global COVID-19 Death Count')\n",
    "# case = DF_Transform(case_pre_us, 'US COVID-19 Case Count')\n",
    "# death = DF_Transform(death_pre_us, 'US COVID-19 Death Count')"
   ]
  },
  {
   "cell_type": "code",
   "execution_count": 121,
   "metadata": {},
   "outputs": [],
   "source": [
    "long_case = long_maker(case, 'case_count')\n",
    "long_death = long_maker(death, 'death_count')"
   ]
  },
  {
   "cell_type": "code",
   "execution_count": 122,
   "metadata": {},
   "outputs": [],
   "source": [
    "case_lag_d = case.set_index('date')\n",
    "case_lag1 = case_lag_d.iloc[0:,1:].apply(lambda x: x.shift(-1),axis=0).reset_index()\n",
    "case_lag2 = case_lag_d.iloc[0:,1:].apply(lambda x: x.shift(-2),axis=0).reset_index()\n",
    "case_lag3 = case_lag_d.iloc[0:,1:].apply(lambda x: x.shift(-3),axis=0).reset_index()\n",
    "case_lag4 = case_lag_d.iloc[0:,1:].apply(lambda x: x.shift(-4),axis=0).reset_index()\n",
    "case_lag5 = case_lag_d.iloc[0:,1:].apply(lambda x: x.shift(-5),axis=0).reset_index()\n",
    "case_lag6 = case_lag_d.iloc[0:,1:].apply(lambda x: x.shift(-6),axis=0).reset_index()\n",
    "case_lag7 = case_lag_d.iloc[0:,1:].apply(lambda x: x.shift(-7),axis=0).reset_index()\n",
    "case_lag8 = case_lag_d.iloc[0:,1:].apply(lambda x: x.shift(-8),axis=0).reset_index()\n",
    "case_lag9 = case_lag_d.iloc[0:,1:].apply(lambda x: x.shift(-9),axis=0).reset_index()\n",
    "case_lag10 = case_lag_d.iloc[0:,1:].apply(lambda x: x.shift(-10),axis=0).reset_index()\n",
    "case_lag11 = case_lag_d.iloc[0:,1:].apply(lambda x: x.shift(-11),axis=0).reset_index()\n",
    "case_lag12 = case_lag_d.iloc[0:,1:].apply(lambda x: x.shift(-12),axis=0).reset_index()\n",
    "case_lag13 = case_lag_d.iloc[0:,1:].apply(lambda x: x.shift(-13),axis=0).reset_index()\n",
    "case_lag14 = case_lag_d.iloc[0:,1:].apply(lambda x: x.shift(-14),axis=0).reset_index()\n",
    "case_lag15 = case_lag_d.iloc[0:,1:].apply(lambda x: x.shift(-15),axis=0).reset_index()\n",
    "case_lag16 = case_lag_d.iloc[0:,1:].apply(lambda x: x.shift(-16),axis=0).reset_index()\n",
    "case_lag17 = case_lag_d.iloc[0:,1:].apply(lambda x: x.shift(-17),axis=0).reset_index()\n",
    "case_lag18 = case_lag_d.iloc[0:,1:].apply(lambda x: x.shift(-18),axis=0).reset_index()\n",
    "case_lag19 = case_lag_d.iloc[0:,1:].apply(lambda x: x.shift(-19),axis=0).reset_index()\n",
    "case_lag20 = case_lag_d.iloc[0:,1:].apply(lambda x: x.shift(-20),axis=0).reset_index()\n",
    "case_lag21 = case_lag_d.iloc[0:,1:].apply(lambda x: x.shift(-21),axis=0).reset_index()\n",
    "\n",
    "death_lag_d = death.set_index('date')\n",
    "death_lag1 = death_lag_d.iloc[0:,1:].apply(lambda x: x.shift(-1),axis=0).reset_index()\n",
    "death_lag2 = death_lag_d.iloc[0:,1:].apply(lambda x: x.shift(-2),axis=0).reset_index()\n",
    "death_lag3 = death_lag_d.iloc[0:,1:].apply(lambda x: x.shift(-3),axis=0).reset_index()\n",
    "death_lag4 = death_lag_d.iloc[0:,1:].apply(lambda x: x.shift(-4),axis=0).reset_index()\n",
    "death_lag5 = death_lag_d.iloc[0:,1:].apply(lambda x: x.shift(-5),axis=0).reset_index()\n",
    "death_lag6 = death_lag_d.iloc[0:,1:].apply(lambda x: x.shift(-6),axis=0).reset_index()\n",
    "death_lag7 = death_lag_d.iloc[0:,1:].apply(lambda x: x.shift(-7),axis=0).reset_index()\n",
    "death_lag8 = death_lag_d.iloc[0:,1:].apply(lambda x: x.shift(-8),axis=0).reset_index()\n",
    "death_lag9 = death_lag_d.iloc[0:,1:].apply(lambda x: x.shift(-9),axis=0).reset_index()\n",
    "death_lag10 = death_lag_d.iloc[0:,1:].apply(lambda x: x.shift(-10),axis=0).reset_index()\n",
    "death_lag11 = death_lag_d.iloc[0:,1:].apply(lambda x: x.shift(-11),axis=0).reset_index()\n",
    "death_lag12 = death_lag_d.iloc[0:,1:].apply(lambda x: x.shift(-12),axis=0).reset_index()\n",
    "death_lag13 = death_lag_d.iloc[0:,1:].apply(lambda x: x.shift(-13),axis=0).reset_index()\n",
    "death_lag14 = death_lag_d.iloc[0:,1:].apply(lambda x: x.shift(-14),axis=0).reset_index()\n",
    "death_lag15 = death_lag_d.iloc[0:,1:].apply(lambda x: x.shift(-15),axis=0).reset_index()\n",
    "death_lag16 = death_lag_d.iloc[0:,1:].apply(lambda x: x.shift(-16),axis=0).reset_index()\n",
    "death_lag17 = death_lag_d.iloc[0:,1:].apply(lambda x: x.shift(-17),axis=0).reset_index()\n",
    "death_lag18 = death_lag_d.iloc[0:,1:].apply(lambda x: x.shift(-18),axis=0).reset_index()\n",
    "death_lag19 = death_lag_d.iloc[0:,1:].apply(lambda x: x.shift(-19),axis=0).reset_index()\n",
    "death_lag20 = death_lag_d.iloc[0:,1:].apply(lambda x: x.shift(-20),axis=0).reset_index()\n",
    "death_lag21 = death_lag_d.iloc[0:,1:].apply(lambda x: x.shift(-21),axis=0).reset_index()"
   ]
  },
  {
   "cell_type": "code",
   "execution_count": 123,
   "metadata": {},
   "outputs": [],
   "source": [
    "long_1 = long_maker(case_lag1,'case1')\n",
    "long_2 = long_maker(case_lag2,'case2')\n",
    "long_3 = long_maker(case_lag3,'case3')\n",
    "long_4 = long_maker(case_lag4,'case4')\n",
    "long_5 = long_maker(case_lag5,'case5')\n",
    "long_6 = long_maker(case_lag6,'case6')\n",
    "long_7 = long_maker(case_lag7,'case7')\n",
    "long_8 = long_maker(case_lag8,'case8')\n",
    "long_9 = long_maker(case_lag9,'case9')\n",
    "long_10 = long_maker(case_lag10,'case10')\n",
    "long_11 = long_maker(case_lag11,'case11')\n",
    "long_12 = long_maker(case_lag12,'case12')\n",
    "long_13 = long_maker(case_lag13,'case13')\n",
    "long_14 = long_maker(case_lag14,'case14')\n",
    "long_15 = long_maker(case_lag15,'case15')\n",
    "long_16 = long_maker(case_lag16,'case16')\n",
    "long_17 = long_maker(case_lag17,'case17')\n",
    "long_18 = long_maker(case_lag18,'case18')\n",
    "long_19 = long_maker(case_lag19,'case19')\n",
    "long_20 = long_maker(case_lag20,'case20')\n",
    "long_21 = long_maker(case_lag21,'case21')   "
   ]
  },
  {
   "cell_type": "code",
   "execution_count": 124,
   "metadata": {},
   "outputs": [],
   "source": [
    "death_long_1 = long_maker(death_lag1,'death1')\n",
    "death_long_2 = long_maker(death_lag2,'death2')\n",
    "death_long_3 = long_maker(death_lag3,'death3')\n",
    "death_long_4 = long_maker(death_lag4,'death4')\n",
    "death_long_5 = long_maker(death_lag5,'death5')\n",
    "death_long_6 = long_maker(death_lag6,'death6')\n",
    "death_long_7 = long_maker(death_lag7,'death7')\n",
    "death_long_8 = long_maker(death_lag8,'death8')\n",
    "death_long_9 = long_maker(death_lag9,'death9')\n",
    "death_long_10 = long_maker(death_lag10,'death10')\n",
    "death_long_11 = long_maker(death_lag11,'death11')\n",
    "death_long_12 = long_maker(death_lag12,'death12')\n",
    "death_long_13 = long_maker(death_lag13,'death13')\n",
    "death_long_14 = long_maker(death_lag14,'death14')\n",
    "death_long_15 = long_maker(death_lag15,'death15')\n",
    "death_long_16 = long_maker(death_lag16,'death16')\n",
    "death_long_17 = long_maker(death_lag17,'death17')\n",
    "death_long_18 = long_maker(death_lag18,'death18')\n",
    "death_long_19 = long_maker(death_lag19,'death19')\n",
    "death_long_20 = long_maker(death_lag20,'death20')\n",
    "death_long_21 = long_maker(death_lag21,'death21')"
   ]
  },
  {
   "cell_type": "markdown",
   "metadata": {},
   "source": [
    "## Importing the Oxford Control Variables"
   ]
  },
  {
   "cell_type": "code",
   "execution_count": 125,
   "metadata": {},
   "outputs": [],
   "source": [
    "c_measures_path = r'../../../covid-policy-tracker/data'\n",
    "school = Correcting_Col_Names(f'{c_measures_path}/timeseries/c1_schoolclosing.csv', 'school_close')\n",
    "work = Correcting_Col_Names(f'{c_measures_path}/timeseries/c2_workplaceclosing.csv', 'work_close')\n",
    "pub_events = Correcting_Col_Names(f'{c_measures_path}/timeseries/c3_cancelpublicevents.csv', 'public_events')\n",
    "gatherings = Correcting_Col_Names(f'{c_measures_path}/timeseries/c4_restrictionsongatherings.csv', 'large_gather')\n",
    "pub_transpo = Correcting_Col_Names(f'{c_measures_path}/timeseries/c5_closepublictransport.csv', 'public_transpo')\n",
    "stay_home = Correcting_Col_Names(f'{c_measures_path}/timeseries/c6_stayathomerequirements.csv' ,'stay_home')\n",
    "domestic_travel = Correcting_Col_Names(f'{c_measures_path}/timeseries/c7_domestictravel.csv' ,'domestic_travel')\n",
    "int_travel = Correcting_Col_Names(f'{c_measures_path}/timeseries/c8_internationaltravel.csv' ,'internat_travel')"
   ]
  },
  {
   "cell_type": "code",
   "execution_count": 126,
   "metadata": {},
   "outputs": [],
   "source": [
    "#Old merge statment\n",
    "long_df = long_case.merge(long_death, on=['date', 'country'])\n",
    "long_df = df_merger(school)\n",
    "long_df = df_merger(work)\n",
    "long_df = df_merger(pub_events)\n",
    "long_df = df_merger(gatherings)\n",
    "long_df = df_merger(pub_transpo)\n",
    "long_df = df_merger(stay_home)\n",
    "long_df = df_merger(domestic_travel)\n",
    "long_df = df_merger(int_travel)\n",
    "#Merging Long Case DFs\n",
    "long_df = df_merger(long_1)\n",
    "long_df = df_merger(long_2)\n",
    "long_df = df_merger(long_3)\n",
    "long_df = df_merger(long_4)\n",
    "long_df = df_merger(long_5)\n",
    "long_df = df_merger(long_6)\n",
    "long_df = df_merger(long_7)\n",
    "long_df = df_merger(long_8)\n",
    "long_df = df_merger(long_9)\n",
    "long_df = df_merger(long_10)\n",
    "long_df = df_merger(long_11)\n",
    "long_df = df_merger(long_12)\n",
    "long_df = df_merger(long_13)\n",
    "long_df = df_merger(long_14)\n",
    "long_df = df_merger(long_15)\n",
    "long_df = df_merger(long_16)\n",
    "long_df = df_merger(long_17)\n",
    "long_df = df_merger(long_18)\n",
    "long_df = df_merger(long_19)\n",
    "long_df = df_merger(long_20)\n",
    "long_df = df_merger(long_21)\n",
    "#Merging the long death vars\n",
    "long_df = df_merger(death_long_1)\n",
    "long_df = df_merger(death_long_2)\n",
    "long_df = df_merger(death_long_3)\n",
    "long_df = df_merger(death_long_4)\n",
    "long_df = df_merger(death_long_5)\n",
    "long_df = df_merger(death_long_6)\n",
    "long_df = df_merger(death_long_7)\n",
    "long_df = df_merger(death_long_8)\n",
    "long_df = df_merger(death_long_9)\n",
    "long_df = df_merger(death_long_10)\n",
    "long_df = df_merger(death_long_11)\n",
    "long_df = df_merger(death_long_12)\n",
    "long_df = df_merger(death_long_13)\n",
    "long_df = df_merger(death_long_14)\n",
    "long_df = df_merger(death_long_15)\n",
    "long_df = df_merger(death_long_16)\n",
    "long_df = df_merger(death_long_17)\n",
    "long_df = df_merger(death_long_18)\n",
    "long_df = df_merger(death_long_19)\n",
    "long_df = df_merger(death_long_20)\n",
    "long_df = df_merger(death_long_21)"
   ]
  },
  {
   "cell_type": "code",
   "execution_count": 127,
   "metadata": {},
   "outputs": [],
   "source": [
    "df_long_list = [case_lag1,case_lag2,case_lag3,case_lag4,case_lag5,case_lag6,\n",
    "                case_lag7,case_lag8,case_lag9,case_lag10,case_lag11,case_lag12,\n",
    "                case_lag13,case_lag14,case_lag15,case_lag16,case_lag17,case_lag18,\n",
    "                case_lag19,case_lag20,case_lag21,death_lag1,death_lag2,death_lag3,\n",
    "                death_lag4,death_lag5,death_lag6,death_lag7,death_lag8,death_lag9,\n",
    "                death_lag10,death_lag11,death_lag12,death_lag13,death_lag14,\n",
    "                death_lag15,death_lag16,death_lag17,death_lag18,death_lag19,death_lag20,\n",
    "                death_lag21,death_long_1,death_long_2,death_long_3,death_long_4,death_long_5,\n",
    "               death_long_6,death_long_7,death_long_8,death_long_9,death_long_10,death_long_11,\n",
    "                death_long_12,death_long_13,death_long_14,death_long_15,death_long_16,death_long_17,\n",
    "                death_long_18,death_long_19,death_long_20,death_long_21,long_1,long_2,long_3,long_4,\n",
    "                long_5,long_6,long_7,long_8,long_9,long_10,long_11,long_12,long_13,long_14,\n",
    "                long_15,long_16,long_17,long_18,long_19,long_20,long_21]\n",
    "for dfs in df_long_list:\n",
    "    del dfs"
   ]
  },
  {
   "cell_type": "code",
   "execution_count": 128,
   "metadata": {},
   "outputs": [],
   "source": [
    "\n",
    "long_df[['school_close',\n",
    "       'work_close', 'public_events', 'large_gather', 'public_transpo',\n",
    "       'stay_home', 'domestic_travel', 'internat_travel']] = long_df[['school_close',\n",
    "       'work_close', 'public_events', 'large_gather', 'public_transpo',\n",
    "       'stay_home', 'domestic_travel', 'internat_travel']].apply(lambda x: x.replace('.',np.nan))\n",
    "long_df[['school_close',\n",
    "       'work_close', 'public_events', 'large_gather', 'public_transpo',\n",
    "       'stay_home', 'domestic_travel', 'internat_travel']] = long_df[['school_close',\n",
    "       'work_close', 'public_events', 'large_gather', 'public_transpo',\n",
    "       'stay_home', 'domestic_travel', 'internat_travel']].fillna(np.nan)\n",
    "control_list = ['school_close','work_close', 'public_events', 'large_gather', 'public_transpo', 'stay_home', 'domestic_travel', 'internat_travel']\n",
    "for measure in control_list:\n",
    "    long_df[measure] = pd.to_numeric(long_df[measure])"
   ]
  },
  {
   "cell_type": "code",
   "execution_count": 129,
   "metadata": {},
   "outputs": [],
   "source": [
    "case_summary = long_df.groupby('country').case_count.agg(['mean','median','std', 'max'])\n",
    "death_summary = long_df.groupby('country').case_count.agg(['mean','median','std', 'max'])"
   ]
  },
  {
   "cell_type": "code",
   "execution_count": null,
   "metadata": {},
   "outputs": [],
   "source": []
  },
  {
   "cell_type": "code",
   "execution_count": 130,
   "metadata": {},
   "outputs": [
    {
     "name": "stdout",
     "output_type": "stream",
     "text": [
      "<class 'pandas.core.frame.DataFrame'>\n",
      "Int64Index: 67022 entries, 0 to 67021\n",
      "Data columns (total 8 columns):\n",
      " #   Column           Non-Null Count  Dtype  \n",
      "---  ------           --------------  -----  \n",
      " 0   school_close     55647 non-null  float64\n",
      " 1   work_close       55601 non-null  float64\n",
      " 2   public_events    55658 non-null  float64\n",
      " 3   large_gather     55656 non-null  float64\n",
      " 4   public_transpo   55658 non-null  float64\n",
      " 5   stay_home        55618 non-null  float64\n",
      " 6   domestic_travel  55614 non-null  float64\n",
      " 7   internat_travel  55646 non-null  float64\n",
      "dtypes: float64(8)\n",
      "memory usage: 7.1 MB\n"
     ]
    }
   ],
   "source": [
    "long_df[['school_close',\n",
    "       'work_close', 'public_events', 'large_gather', 'public_transpo',\n",
    "       'stay_home', 'domestic_travel', 'internat_travel']].info()"
   ]
  },
  {
   "cell_type": "markdown",
   "metadata": {},
   "source": [
    "# Importing Control Variables"
   ]
  },
  {
   "cell_type": "code",
   "execution_count": 131,
   "metadata": {},
   "outputs": [],
   "source": [
    "control_var_path = '../Control Data'"
   ]
  },
  {
   "cell_type": "code",
   "execution_count": 132,
   "metadata": {},
   "outputs": [],
   "source": [
    "def country_name_clean(df):\n",
    "    import re\n",
    "#     df.loc[(df['country'].str.contains('Congo',re.IGNORECASE)) & (~df['country'].str.contains('dem',re.IGNORECASE)) , 'country'] ='congo'\n",
    "    df.loc[(df['country'].str.contains('korea, s',flags= re.IGNORECASE)) & (df['country'].str.contains('south',flags= re.IGNORECASE)), 'country']= 'south korea'\n",
    "    df.loc[df['country'].str.contains('rep')& (df['country'].str.contains('congo',flags= re.IGNORECASE)) ,'country']= 'democratic republic of congo'\n",
    "    df.loc[df['country'] == ('US'), 'country']= 'united states'\n",
    "    df.loc[df['country'].str.contains('ivoire|ivory coast',flags= re.IGNORECASE), 'country']= 'cote d\\'ivoire'\n",
    "    df.loc[df['country'].str.contains('venezuela',flags= re.IGNORECASE), 'country']= 'venezuela'\n",
    "    df.loc[df['country'].str.contains('and principe',flags= re.IGNORECASE), 'country']= 'sao tome and principe'\n",
    "    df.loc[df['country'].str.contains('and the grenadines',flags= re.IGNORECASE), 'country']= 'saint vincent and the grenadines'\n",
    "    df.loc[df['country'].str.contains('kitts and nevis',flags= re.IGNORECASE), 'country']= 'saint kitts and nevis'\n",
    "    df.loc[df['country'].str.contains('bahamas',flags= re.IGNORECASE), 'country']= 'bahamas'\n",
    "    df.loc[df['country'].str.contains('yemen',flags= re.IGNORECASE), 'country']= 'yemen'\n",
    "    df.loc[df['country'].str.contains('gambia',flags= re.IGNORECASE), 'country']= 'gambia'\n",
    "    df.loc[df['country'].str.contains('hong kong',flags= re.IGNORECASE), 'country']= 'hong kong'\n",
    "    df.loc[df['country'].str.contains('macao',flags= re.IGNORECASE), 'country']= 'macao'\n",
    "    df.loc[df['country'].str.contains('iran',flags= re.IGNORECASE), 'country']= 'iran'\n",
    "    df.loc[df['country'].str.contains('lucia',flags= re.IGNORECASE), 'country']= 'saint lucia'\n",
    "    df.loc[df['country'].str.contains('lao pdr',flags= re.IGNORECASE), 'country']= 'laos'\n",
    "    df.loc[df['country'].str.contains('egypt',flags= re.IGNORECASE), 'country']= 'egypt'\n",
    "    df.loc[df['country'].str.contains('korea, rep.',flags= re.IGNORECASE), 'country']= 'south korea'\n",
    "    df.loc[df['country'].str.contains('states of america',flags= re.IGNORECASE), 'country']= 'united states'\n",
    "    df.loc[df['country'].str.contains('east timor',flags= re.IGNORECASE), 'country']= 'timor-leste'\n",
    "    df.loc[df['country'].str.contains('russia',flags= re.IGNORECASE), 'country']= 'russia'\n",
    "    df.loc[df['country'].str.contains('brunei',flags= re.IGNORECASE), 'country']= 'brunei'\n",
    "    df.loc[df['country'].str.contains('korea, dem. people\\'s rep',flags= re.IGNORECASE), 'country']= 'north korea'\n",
    "    dset = df.copy()\n",
    "    return dset\n"
   ]
  },
  {
   "cell_type": "code",
   "execution_count": 133,
   "metadata": {},
   "outputs": [],
   "source": [
    "#COVID Regional Safety Assessment Data\n",
    "safety = pd.read_excel(f'{control_var_path}/COVID-19_Regional_Safety_Assessment.xlsx')\n",
    "safety.columns = safety.columns.str.lower()\n",
    "safety.rename(columns={'country/ region':'country'}, inplace=True)\n",
    "safety.country = safety.country.str.lower()\n",
    "safety = country_name_clean(safety)\n",
    "\n",
    "#World Bank GDP Data\n",
    "gdp = pd.read_excel(f'{control_var_path}/Global GDP.xlsx')\n",
    "gdp.drop(columns='Unnamed: 4', inplace=True)\n",
    "gdp.columns = gdp.columns.str.lower()\n",
    "gdp.rename(columns={'economy':'country'}, inplace=True)\n",
    "gdp.country = gdp.country.str.lower()\n",
    "\n",
    "og_data = pd.read_excel('..\\..\\Country Response Paper\\Original Documents\\Country Responses-selected\\Country Responses Dataset 7.28.20.xlsx',sheet_name = 'Country Responses')\n",
    "og_data.index = og_data['Country/Region']\n",
    "og_data = og_data.iloc[0:,19:]\n",
    "og_data = og_data.reset_index(drop=False).rename(columns={'Country/Region':'country'})\n",
    "og_data.columns = og_data.columns.str.lower()\n",
    "og_data = stats_col_renamer(og_data)\n",
    "og_data.dropna(how='all',inplace=True)\n",
    "og_data.country = og_data.country.str.lower()\n",
    "\n",
    "safety = country_name_clean(safety)\n",
    "gdp = country_name_clean(gdp)\n",
    "og_data = country_name_clean(og_data)"
   ]
  },
  {
   "cell_type": "markdown",
   "metadata": {},
   "source": [
    "# Importing and evaluating the smoking dataset from Our World Data"
   ]
  },
  {
   "cell_type": "code",
   "execution_count": 134,
   "metadata": {},
   "outputs": [],
   "source": [
    "#Smoking Data\n",
    "smk_die_rate = our_world_importer('share-deaths-smoking', 'death-rate-smoking')\n",
    "smk_die_prop = our_world_importer('share-deaths-smoking', 'share-deaths-smoking')\n",
    "\n",
    "#HIV Data\n",
    "hiv_prev = our_world_importer('hiv-data','share-of-population-infected-wi')\n",
    "hiv_death = our_world_importer('hiv-data','hiv-death-rates')\n",
    "#Obesity Data\n",
    "obese = our_world_importer('share-of-deaths-obesity','share-of-deaths-obesity')\n",
    "\n",
    "#Population Data\n",
    "pop = our_world_importer('projected-population-by-country', 'projected-population-by-country',year=2020)\n",
    "pop_den = our_world_importer('population-density','population-density', year=2017)\n",
    "pop_den.rename(columns={'population_density_people_per_sq_km_of_land_area':'pop_den_per_sqkm'},inplace=True)\n",
    "\n",
    "#Age Data\n",
    "age = our_world_importer('median-age','median-age',year=2020)\n",
    "\n",
    "#Diabetes Data\n",
    "diabet = our_world_importer('diabetes-prevalence', 'diabetes-prevalence')\n",
    "mers = pd.read_excel(f'{control_data_path}\\MERS-SARS.xlsx',sheet_name='MERS')\n",
    "sars = pd.read_excel(f'{control_data_path}\\MERS-SARS.xlsx',sheet_name='SARS')\n",
    "mers = stats_col_renamer(mers)\n",
    "sars = stats_col_renamer(sars)\n",
    "sars.drop(columns=['number_of_hcw_affected_', 'date_onset_first_probable_case',\n",
    "       'date_onset_last_probable_case','case_fatality_ratio_','female', 'male','areas','median_age_range'],inplace=True)\n",
    "mers.drop(columns='country',inplace=True)"
   ]
  },
  {
   "cell_type": "code",
   "execution_count": null,
   "metadata": {},
   "outputs": [],
   "source": []
  },
  {
   "cell_type": "code",
   "execution_count": 135,
   "metadata": {},
   "outputs": [],
   "source": [
    "def mers_sars_quat_make(df):\n",
    "    df[['mers_case_count',\n",
    "       'sars_case_count', 'number_of_deathsa', 'number_of_imported_cases',\n",
    "       'percent_of_imported_cases']] = df[['mers_case_count',\n",
    "       'sars_case_count', 'number_of_deathsa', 'number_of_imported_cases',\n",
    "       'percent_of_imported_cases']].fillna(0)\n",
    "    df['mers_sars_max'] = df[['mers_case_count', 'sars_case_count']].max(axis=1)\n",
    "    df['mers_sars_sum'] = df[['mers_case_count', 'sars_case_count']].sum(axis=1)\n",
    "    df['mers_sars_quart'] = 0\n",
    "    mers_sars_sum =  control.loc[control.mers_sars_sum > 0 ]['mers_sars_sum']\n",
    "    des_mers_sum = mers_sars_sum.describe().to_frame()\n",
    "    q1 = int(des_mers_sum.iloc[4].values)\n",
    "    q2 = int(des_mers_sum.iloc[5].values)\n",
    "    q3 = int(des_mers_sum.iloc[6].values)\n",
    "    df.loc[(df.mers_sars_sum > 0) & (df.mers_sars_sum <= q1), 'mers_sars_quart']=1\n",
    "    df.loc[(df.mers_sars_sum > q1) & (df.mers_sars_sum <= q2), 'mers_sars_quart']=2\n",
    "    df.loc[(df.mers_sars_sum > q2) & (df.mers_sars_sum <= q3), 'mers_sars_quart']=3\n",
    "    df.loc[df.mers_sars_sum > q3, 'mers_sars_quart']=4\n",
    "    return df"
   ]
  },
  {
   "cell_type": "markdown",
   "metadata": {},
   "source": [
    "### How to Merge a lot of DataFrames\n",
    "> Method 1"
   ]
  },
  {
   "cell_type": "code",
   "execution_count": 136,
   "metadata": {},
   "outputs": [],
   "source": [
    "from functools import partial, reduce"
   ]
  },
  {
   "cell_type": "code",
   "execution_count": 137,
   "metadata": {},
   "outputs": [],
   "source": [
    "dfs = [smk_die_rate, smk_die_prop,hiv_prev, hiv_death, obese, pop, pop_den, age, diabet, mers, sars]\n",
    "merge = partial(pd.merge,on='code', how='outer')\n",
    "control = reduce(merge,dfs)\n",
    "#creating the quartile variable\n",
    "control = mers_sars_quat_make(control)\n"
   ]
  },
  {
   "cell_type": "markdown",
   "metadata": {},
   "source": [
    "> Method 2"
   ]
  },
  {
   "cell_type": "code",
   "execution_count": 138,
   "metadata": {},
   "outputs": [],
   "source": [
    "# control = smk_die_rate.copy()\n",
    "# control = control.merge(smk_die_prop, on='code', how='outer')\n",
    "# control = control.merge(hiv_prev, on='code', how='outer')\n",
    "# control = control.merge(hiv_death, on='code', how='outer')\n",
    "# control = control.merge(obese, on='code', how='outer')\n",
    "# control = control.merge(pop, on='code', how='outer')\n",
    "# control = control.merge(age, on='code', how='outer')\n",
    "# control = control.merge(diabet, on='code', how='outer')\n",
    "# control = control.merge(mers, on='code', how='outer')\n",
    "# control = control.merge(sars, on='code', how='outer')"
   ]
  },
  {
   "cell_type": "markdown",
   "metadata": {},
   "source": [
    "# Final Merges"
   ]
  },
  {
   "cell_type": "code",
   "execution_count": 139,
   "metadata": {},
   "outputs": [
    {
     "data": {
      "text/plain": [
       "datetime.date(2020, 11, 12)"
      ]
     },
     "execution_count": 139,
     "metadata": {},
     "output_type": "execute_result"
    }
   ],
   "source": [
    "long_df_newcontrol = control.merge(gdp,left_on='code',right_on='countrycode',how='outer')\n",
    "long_df_newcontrol = long_df_newcontrol.merge(long_df, on=['country'],how='outer')\n",
    "long_df_newcontrol = long_df_newcontrol.merge(safety, on=['country'],how='outer')\n",
    "long_df_newcontrol = long_df_newcontrol.merge(og_data, on=['country'],how='outer')\n",
    "long_df_newcontrol.rename(columns={'us_dollars_in_mil':'gdp_in_mil_us', 'ranking':'gdp_rank'},inplace=True)\n",
    "long_df_newcontrol = stats_col_renamer(long_df_newcontrol)\n",
    "long_df_newcontrol.drop(columns={'global_region','code'},inplace=True)\n",
    "long_df_newcontrol.columns = long_df_newcontrol.columns.str.replace('__','_')\n",
    "long_df_newcontrol.countrycode = long_df_newcontrol.countrycode.str.upper()\n",
    "long_df_order = ['date',  'country','case_count', 'death_count', 'school_close',\n",
    "       'work_close', 'public_events', 'large_gather', 'public_transpo',\n",
    "       'stay_home', 'domestic_travel', 'internat_travel', 'population','pop_den_per_sqkm',\n",
    "       'ages_65_and_above_of_total_population', 'female_of_total',\n",
    "       'diabetes_prevalence_of_population_ages_20_to_79',\n",
    "       'obese_of_adult_population', 'htn_prevalence',\n",
    "       'smoking_prevalence_ages_15', 'cancer_prevalence_',\n",
    "       'hiv_prevalence_of_population_ages_1549', 'copd_dalys_per_100000',\n",
    "       'sars_experience_0_no_1_yes', 'quarantine_efficiency', 'gov_efficiency',\n",
    "       'monitoring_and_detection', 'healthcare_readiness',\n",
    "       'country_vulnerability', 'emergency_preparedness', 'total_score',\n",
    "       'countrycode', 'gdp_rank', 'gdp_in_mil_us']\n",
    "long_df_newcontrol = long_df_newcontrol.filter(items=['country','countrycode','date','case_count','death_count',\n",
    "'school_close', 'domestic_travel','internat_travel','large_gather', 'public_events',\n",
    "'stay_home', 'work_close' ,'public_transpo',\n",
    "'gdp_rank', 'us_dollars_in_mil','smoking_ihme_2019', 'population_by_country_and_region_historic_and_projections_gapminder_hyde_un','pop_den_per_sqkm',\n",
    "'un_population_division_median_age_2017','ages_65_and_above_of_total_population',\n",
    "'prevalence_hivaids_sex_both_age_15_49_years_percent',\n",
    "'deaths_hivaids_sex_both_age_age_standardized_rate', \n",
    "'diabetes_prevalence_of_population_ages_20_to_79_x',\n",
    "'deaths_smoking_sex_both_age_age_standardized_rate','cancer_prevalence_',\n",
    "'htn_prevalence', 'copd_dalys_per_100000', 'obesity_ihme_2019',\n",
    "'country_vulnerability','emergency_preparedness','gov_efficiency','healthcare readiness',\n",
    "'monitoring and detection', 'quarantine_efficiency', 'total_score',\n",
    "'mers_case_count', 'sars_case_count', 'mers_sars_sum','mers_sars_quart','mers_sars_max' , \n",
    "'number_of_deathsa', 'number_of_imported_cases', 'percent_of_imported_cases',\n",
    "'case1', 'case2', 'case3', 'case4', 'case5', 'case6', 'case7', 'case8',\n",
    "'case9', 'case10', 'case11', 'case12', 'case13', 'case14', 'case15',\n",
    "'case16', 'case17', 'case18', 'case19', 'case20', 'case21', 'death1',\n",
    "'death2', 'death3', 'death4', 'death5', 'death6', 'death7', 'death8',\n",
    "'death9', 'death10', 'death11', 'death12', 'death13', 'death14',\n",
    "'death15', 'death16', 'death17', 'death18', 'death19', 'death20',\n",
    "'death21'])\n",
    "long_df_newcontrol.rename(columns={'us_dollars_in_mil':'gdp_in_mil_us', 'population_by_country_and_region_historic_and_projections_gapminder_hyde_un':'pop_2020',\n",
    "                                   'deaths_hivaids_sex_both_age_age_standardized_rate':'deaths_hivaids_sex_both_age',\n",
    "                                  'diabetes_prevalence_of_population_ages_20_to_79_x':'diabetes_prev_ages_20_to_79',\n",
    "                                  'cancer_prevalence_':'cancer_prevalence'},inplace=True)\n",
    "date = long_df_newcontrol.date.max().date()\n",
    "date"
   ]
  },
  {
   "cell_type": "markdown",
   "metadata": {},
   "source": [
    "Creating SARS/MERS Experience Variables"
   ]
  },
  {
   "cell_type": "code",
   "execution_count": 140,
   "metadata": {},
   "outputs": [
    {
     "name": "stderr",
     "output_type": "stream",
     "text": [
      "E:\\Anaconda\\lib\\site-packages\\pandas\\core\\series.py:726: RuntimeWarning: invalid value encountered in log\n",
      "  result = getattr(ufunc, method)(*inputs, **kwargs)\n",
      "E:\\Anaconda\\lib\\site-packages\\pandas\\core\\series.py:726: RuntimeWarning: divide by zero encountered in log\n",
      "  result = getattr(ufunc, method)(*inputs, **kwargs)\n",
      "E:\\Anaconda\\lib\\site-packages\\pandas\\core\\series.py:726: RuntimeWarning: invalid value encountered in log\n",
      "  result = getattr(ufunc, method)(*inputs, **kwargs)\n",
      "E:\\Anaconda\\lib\\site-packages\\pandas\\core\\series.py:726: RuntimeWarning: invalid value encountered in log\n",
      "  result = getattr(ufunc, method)(*inputs, **kwargs)\n",
      "E:\\Anaconda\\lib\\site-packages\\pandas\\core\\series.py:726: RuntimeWarning: divide by zero encountered in log\n",
      "  result = getattr(ufunc, method)(*inputs, **kwargs)\n",
      "E:\\Anaconda\\lib\\site-packages\\pandas\\core\\series.py:726: RuntimeWarning: invalid value encountered in log\n",
      "  result = getattr(ufunc, method)(*inputs, **kwargs)\n"
     ]
    }
   ],
   "source": [
    "long_df_newcontrol.mers_case_count = long_df_newcontrol.mers_case_count.fillna(0)\n",
    "long_df_newcontrol.sars_case_count = long_df_newcontrol.sars_case_count.fillna(0)\n",
    "long_df_newcontrol['mers_sars_exp1'] = 0\n",
    "long_df_newcontrol['mers_sars_exp5'] = 0\n",
    "long_df_newcontrol['mers_sars_exp10'] = 0\n",
    "long_df_newcontrol['mers_sars_exp20'] = 0\n",
    "long_df_newcontrol['mers_sars_exp100'] = 0\n",
    "long_df_newcontrol['mers_sars_exp200'] = 0\n",
    "long_df_newcontrol.loc[long_df_newcontrol.mers_sars_max >= 1, 'mers_sars_exp1' ] = 1\n",
    "long_df_newcontrol.loc[long_df_newcontrol.mers_sars_max >= 5, 'mers_sars_exp5' ] = 1\n",
    "long_df_newcontrol.loc[long_df_newcontrol.mers_sars_max >= 10, 'mers_sars_exp10' ] = 1\n",
    "long_df_newcontrol.loc[long_df_newcontrol.mers_sars_max >= 20, 'mers_sars_exp20' ] = 1\n",
    "long_df_newcontrol.loc[long_df_newcontrol.mers_sars_max >= 100, 'mers_sars_exp100' ] = 1\n",
    "long_df_newcontrol.loc[long_df_newcontrol.mers_sars_max >= 200, 'mers_sars_exp200' ] = 1\n",
    "long_df_newcontrol['log_case_count']=0\n",
    "long_df_newcontrol['log_death_count']=0\n",
    "long_df_newcontrol.loc[long_df_newcontrol.case_count == 0, 'log_case_count' ] = np.log(long_df_newcontrol.case_count + .5)\n",
    "long_df_newcontrol.loc[long_df_newcontrol.case_count > 0, 'log_case_count' ] = np.log(long_df_newcontrol.case_count)\n",
    "long_df_newcontrol.loc[long_df_newcontrol.death_count == 0, 'log_death_count' ] = np.log(long_df_newcontrol.death_count + .5)\n",
    "long_df_newcontrol.loc[long_df_newcontrol.death_count > 0, 'log_death_count' ] = np.log(long_df_newcontrol.death_count)\n",
    "long_df_newcontrol = long_df_newcontrol.loc[~long_df_newcontrol.date.isnull()]\n",
    "long_df_newcontrol = long_df_newcontrol.sort_values(by=['country','date'])\n",
    "multii = long_df_newcontrol.set_index(['country','date'])\n",
    "# rolmean_case =  pd.DataFrame(multii.groupby(['country','date'])['case_count'].rolling(7).mean())\n",
    "rolmean_case =  pd.DataFrame(multii.groupby(level=0,as_index=False,group_keys=False)['case_count'].rolling(7).mean()).reset_index(level=0, drop=True)\n",
    "rolmean_death =  pd.DataFrame(multii.groupby(as_index=False,level=0)['death_count'].rolling(30).mean()).reset_index(level=0, drop=True)\n",
    "rolmean_case['case_rol_mean_lag7'] = rolmean_case.case_count.shift(-7)\n",
    "rolmean_death['death_rol_mean_lag7'] = rolmean_death.death_count.shift(-7)\n",
    "rolmeans = rolmean_case.merge(rolmean_death,left_index=True,right_index=True)\n",
    "rolmeans.rename(columns={'case_count':'case_rol_mean7','death_count':'death_rol_mean7'},inplace=True)\n",
    "rolmeans.reset_index(inplace=True)\n",
    "rolmeans['dup'] = rolmeans.duplicated()\n",
    "rolmeans = rolmeans.loc[~rolmeans.dup]\n",
    "rolmeans = rolmeans.drop(columns='dup')\n",
    "finaldf = long_df_newcontrol.merge(rolmeans, on=['country','date'])\n",
    "finaldf = long_df_newcontrol.merge(rolmeans, on=['country','date'])\n",
    "finaldf['dup'] = finaldf.duplicated(['country','date','case_count','death_count','school_close'])\n",
    "finaldf = finaldf.loc[finaldf.dup == False]"
   ]
  },
  {
   "cell_type": "markdown",
   "metadata": {},
   "source": [
    "### Making sure that the lags worked correctly"
   ]
  },
  {
   "cell_type": "code",
   "execution_count": 141,
   "metadata": {},
   "outputs": [
    {
     "data": {
      "text/plain": [
       "(country\n",
       " afghanistan           AxesSubplot(0.125,0.125;0.775x0.755)\n",
       " albania               AxesSubplot(0.125,0.125;0.775x0.755)\n",
       " algeria               AxesSubplot(0.125,0.125;0.775x0.755)\n",
       " andorra               AxesSubplot(0.125,0.125;0.775x0.755)\n",
       " angola                AxesSubplot(0.125,0.125;0.775x0.755)\n",
       "                                       ...                 \n",
       " west bank and gaza    AxesSubplot(0.125,0.125;0.775x0.755)\n",
       " western sahara        AxesSubplot(0.125,0.125;0.775x0.755)\n",
       " yemen                 AxesSubplot(0.125,0.125;0.775x0.755)\n",
       " zambia                AxesSubplot(0.125,0.125;0.775x0.755)\n",
       " zimbabwe              AxesSubplot(0.125,0.125;0.775x0.755)\n",
       " Name: case_rol_mean_lag7, Length: 214, dtype: object,\n",
       " country\n",
       " afghanistan           AxesSubplot(0.125,0.125;0.775x0.755)\n",
       " albania               AxesSubplot(0.125,0.125;0.775x0.755)\n",
       " algeria               AxesSubplot(0.125,0.125;0.775x0.755)\n",
       " andorra               AxesSubplot(0.125,0.125;0.775x0.755)\n",
       " angola                AxesSubplot(0.125,0.125;0.775x0.755)\n",
       "                                       ...                 \n",
       " west bank and gaza    AxesSubplot(0.125,0.125;0.775x0.755)\n",
       " western sahara        AxesSubplot(0.125,0.125;0.775x0.755)\n",
       " yemen                 AxesSubplot(0.125,0.125;0.775x0.755)\n",
       " zambia                AxesSubplot(0.125,0.125;0.775x0.755)\n",
       " zimbabwe              AxesSubplot(0.125,0.125;0.775x0.755)\n",
       " Name: case_count, Length: 214, dtype: object)"
      ]
     },
     "execution_count": 141,
     "metadata": {},
     "output_type": "execute_result"
    },
    {
     "data": {
      "image/png": "[encoded data removed]",
      "text/plain": [
       "<Figure size 1080x648 with 1 Axes>"
      ]
     },
     "metadata": {
      "needs_background": "light"
     },
     "output_type": "display_data"
    }
   ],
   "source": [
    "rolmean_case.groupby(level=0)['case_rol_mean_lag7'].plot(x=rolmean_case.index[1], color='black',label='Lagged Values'),rolmean_case.groupby(level=0)['case_count'].plot(x=rolmean_case.index[1],color='red',label='Non-lagged values')\n"
   ]
  },
  {
   "cell_type": "code",
   "execution_count": 142,
   "metadata": {},
   "outputs": [
    {
     "data": {
      "text/plain": [
       "country\n",
       "afghanistan           AxesSubplot(0.125,0.125;0.775x0.755)\n",
       "albania               AxesSubplot(0.125,0.125;0.775x0.755)\n",
       "algeria               AxesSubplot(0.125,0.125;0.775x0.755)\n",
       "andorra               AxesSubplot(0.125,0.125;0.775x0.755)\n",
       "angola                AxesSubplot(0.125,0.125;0.775x0.755)\n",
       "                                      ...                 \n",
       "west bank and gaza    AxesSubplot(0.125,0.125;0.775x0.755)\n",
       "western sahara        AxesSubplot(0.125,0.125;0.775x0.755)\n",
       "yemen                 AxesSubplot(0.125,0.125;0.775x0.755)\n",
       "zambia                AxesSubplot(0.125,0.125;0.775x0.755)\n",
       "zimbabwe              AxesSubplot(0.125,0.125;0.775x0.755)\n",
       "Name: case_rol_mean7, Length: 214, dtype: object"
      ]
     },
     "execution_count": 142,
     "metadata": {},
     "output_type": "execute_result"
    },
    {
     "data": {
      "image/png": "[encoded data removed]",
      "text/plain": [
       "<Figure size 1080x648 with 1 Axes>"
      ]
     },
     "metadata": {
      "needs_background": "light"
     },
     "output_type": "display_data"
    }
   ],
   "source": [
    "finaldf.set_index('date').groupby('country').case_rol_mean7.plot()"
   ]
  },
  {
   "cell_type": "code",
   "execution_count": 143,
   "metadata": {},
   "outputs": [
    {
     "data": {
      "text/plain": [
       "Index(['country', 'countrycode', 'date', 'case_count', 'death_count',\n",
       "       'school_close', 'domestic_travel', 'internat_travel', 'large_gather',\n",
       "       'public_events', 'stay_home', 'work_close', 'public_transpo',\n",
       "       'gdp_rank', 'gdp_in_mil_us', 'smoking_ihme_2019', 'pop_2020',\n",
       "       'pop_den_per_sqkm', 'un_population_division_median_age_2017',\n",
       "       'ages_65_and_above_of_total_population',\n",
       "       'prevalence_hivaids_sex_both_age_15_49_years_percent',\n",
       "       'deaths_hivaids_sex_both_age', 'diabetes_prev_ages_20_to_79',\n",
       "       'deaths_smoking_sex_both_age_age_standardized_rate',\n",
       "       'cancer_prevalence', 'htn_prevalence', 'copd_dalys_per_100000',\n",
       "       'obesity_ihme_2019', 'country_vulnerability', 'emergency_preparedness',\n",
       "       'gov_efficiency', 'quarantine_efficiency', 'total_score',\n",
       "       'mers_case_count', 'sars_case_count', 'mers_sars_sum',\n",
       "       'mers_sars_quart', 'mers_sars_max', 'number_of_deathsa',\n",
       "       'number_of_imported_cases', 'percent_of_imported_cases', 'case1',\n",
       "       'case2', 'case3', 'case4', 'case5', 'case6', 'case7', 'case8', 'case9',\n",
       "       'case10', 'case11', 'case12', 'case13', 'case14', 'case15', 'case16',\n",
       "       'case17', 'case18', 'case19', 'case20', 'case21', 'death1', 'death2',\n",
       "       'death3', 'death4', 'death5', 'death6', 'death7', 'death8', 'death9',\n",
       "       'death10', 'death11', 'death12', 'death13', 'death14', 'death15',\n",
       "       'death16', 'death17', 'death18', 'death19', 'death20', 'death21',\n",
       "       'mers_sars_exp1', 'mers_sars_exp5', 'mers_sars_exp10',\n",
       "       'mers_sars_exp20', 'mers_sars_exp100', 'mers_sars_exp200',\n",
       "       'log_case_count', 'log_death_count', 'case_rol_mean7',\n",
       "       'case_rol_mean_lag7', 'death_rol_mean7', 'death_rol_mean_lag7', 'dup'],\n",
       "      dtype='object')"
      ]
     },
     "execution_count": 143,
     "metadata": {},
     "output_type": "execute_result"
    }
   ],
   "source": [
    "finaldf.columns"
   ]
  },
  {
   "cell_type": "code",
   "execution_count": 144,
   "metadata": {},
   "outputs": [],
   "source": [
    "# finaldf.to_excel(f'{out_data_path}\\\\Final COVID Data Set (Through {date}) (ver2).xlsx',index=False)"
   ]
  },
  {
   "cell_type": "markdown",
   "metadata": {},
   "source": [
    "**Creating a Data Set With Just Country Codes in it to Facilitate Later Merging**"
   ]
  },
  {
   "cell_type": "code",
   "execution_count": 145,
   "metadata": {},
   "outputs": [
    {
     "name": "stderr",
     "output_type": "stream",
     "text": [
      "E:\\Anaconda\\lib\\site-packages\\ipykernel_launcher.py:2: SettingWithCopyWarning: \n",
      "A value is trying to be set on a copy of a slice from a DataFrame.\n",
      "Try using .loc[row_indexer,col_indexer] = value instead\n",
      "\n",
      "See the caveats in the documentation: https://pandas.pydata.org/pandas-docs/stable/user_guide/indexing.html#returning-a-view-versus-a-copy\n",
      "  \n"
     ]
    }
   ],
   "source": [
    "cc = finaldf[['country','countrycode']]\n",
    "cc['dup'] = cc.duplicated('country')\n",
    "cc = cc.loc[~cc.dup]\n",
    "cc.drop(columns=['dup'], inplace=True)\n",
    "cc.rename(columns={'countrycode':'code'}, inplace=True)"
   ]
  },
  {
   "cell_type": "markdown",
   "metadata": {},
   "source": [
    "# Data Set for the Linear Model of Cumulative Incidence Rates"
   ]
  },
  {
   "cell_type": "code",
   "execution_count": 146,
   "metadata": {},
   "outputs": [],
   "source": [
    "gdp.rename(columns={'countrycode':'code'},inplace=True)"
   ]
  },
  {
   "cell_type": "code",
   "execution_count": 147,
   "metadata": {},
   "outputs": [],
   "source": [
    "# safety"
   ]
  },
  {
   "cell_type": "code",
   "execution_count": 148,
   "metadata": {},
   "outputs": [
    {
     "data": {
      "text/plain": [
       "Index(['country', 'cum_case_count', 'cum_death_count', 'code',\n",
       "       'deaths_smoking_sex_both_age_age_standardized_rate',\n",
       "       'smoking_ihme_2019',\n",
       "       'prevalence_hivaids_sex_both_age_15_49_years_percent',\n",
       "       'deaths_hivaids_sex_both_age_age_standardized_rate',\n",
       "       'obesity_ihme_2019', 'pop_2020', 'pop_den_per_sqkm',\n",
       "       'un_population_division_median_age_2017',\n",
       "       'diabetes_prevalence__of_population_ages_20_to_79', 'mers_case_count',\n",
       "       'sars_case_count', 'number_of_deathsa', 'number_of_imported_cases',\n",
       "       'percent_of_imported_cases', 'mers_sars_max', 'mers_sars_sum',\n",
       "       'mers_sars_quart', 'case_incid_100k', 'death_incid_100k', 'ranking',\n",
       "       'us dollars in mil', 'global region', 'quarantine efficiency',\n",
       "       'gov efficiency', 'monitoring and detection', 'healthcare readiness',\n",
       "       'country vulnerability', 'emergency preparedness', 'total score'],\n",
       "      dtype='object')"
      ]
     },
     "execution_count": 148,
     "metadata": {},
     "output_type": "execute_result"
    }
   ],
   "source": [
    "cum_df = pd.DataFrame(columns=['cum_case_count','cum_death_count'])\n",
    "cum_df[['cum_case_count','cum_death_count']] = finaldf.groupby('country')[['case_count','death_count']].sum()\n",
    "dfs = [cc,smk_die_rate, smk_die_prop,hiv_prev, hiv_death, obese, pop, pop_den, age, diabet, mers, sars]\n",
    "merge = partial(pd.merge,on='code', how='outer')\n",
    "control_norepeat = reduce(merge,dfs)\n",
    "control_norepeat[['mers_case_count','sars_case_count']] = control_norepeat[['mers_case_count','sars_case_count']].fillna(0)\n",
    "control_norepeat = mers_sars_quat_make(control_norepeat)\n",
    "cum_df = cum_df.merge(control_norepeat,on='country')\n",
    "cum_df.rename(columns={'population_by_country_and_region_historic_and_projections_gapminder_hyde__un':'pop_2020'},inplace=True)\n",
    "cum_df['case_incid_100k'] = (cum_df.cum_case_count/cum_df.pop_2020)*100000\n",
    "cum_df['death_incid_100k'] = (cum_df.cum_death_count/cum_df.pop_2020)*100000\n",
    "cum_df = cum_df.merge(gdp,on=['country','code'],how='outer')\n",
    "cum_df = cum_df.merge(safety, on=['country'],how='outer')\n",
    "cum_df = cum_df.loc[~cum_df.cum_case_count.isnull()]\n",
    "cum_df.columns"
   ]
  },
  {
   "cell_type": "code",
   "execution_count": 149,
   "metadata": {},
   "outputs": [
    {
     "data": {
      "text/html": [
       "<div>\n",
       "<style scoped>\n",
       "    .dataframe tbody tr th:only-of-type {\n",
       "        vertical-align: middle;\n",
       "    }\n",
       "\n",
       "    .dataframe tbody tr th {\n",
       "        vertical-align: top;\n",
       "    }\n",
       "\n",
       "    .dataframe thead th {\n",
       "        text-align: right;\n",
       "    }\n",
       "</style>\n",
       "<table border=\"1\" class=\"dataframe\">\n",
       "  <thead>\n",
       "    <tr style=\"text-align: right;\">\n",
       "      <th></th>\n",
       "      <th>country</th>\n",
       "      <th>cum_case_count</th>\n",
       "      <th>cum_death_count</th>\n",
       "      <th>code</th>\n",
       "      <th>deaths_smoking_sex_both_age_age_standardized_rate</th>\n",
       "      <th>smoking_ihme_2019</th>\n",
       "      <th>prevalence_hivaids_sex_both_age_15_49_years_percent</th>\n",
       "      <th>deaths_hivaids_sex_both_age_age_standardized_rate</th>\n",
       "      <th>obesity_ihme_2019</th>\n",
       "      <th>pop_2020</th>\n",
       "      <th>...</th>\n",
       "      <th>ranking</th>\n",
       "      <th>us dollars in mil</th>\n",
       "      <th>global region</th>\n",
       "      <th>quarantine efficiency</th>\n",
       "      <th>gov efficiency</th>\n",
       "      <th>monitoring and detection</th>\n",
       "      <th>healthcare readiness</th>\n",
       "      <th>country vulnerability</th>\n",
       "      <th>emergency preparedness</th>\n",
       "      <th>total score</th>\n",
       "    </tr>\n",
       "  </thead>\n",
       "  <tbody>\n",
       "    <tr>\n",
       "      <th>0</th>\n",
       "      <td>afghanistan</td>\n",
       "      <td>42795.0</td>\n",
       "      <td>1591.0</td>\n",
       "      <td>AFG</td>\n",
       "      <td>89.891759</td>\n",
       "      <td>4.08</td>\n",
       "      <td>0.026428</td>\n",
       "      <td>1.087497</td>\n",
       "      <td>8.50</td>\n",
       "      <td>38928000.0</td>\n",
       "      <td>...</td>\n",
       "      <td>114.0</td>\n",
       "      <td>19101.0</td>\n",
       "      <td>Asia &amp; Pacific</td>\n",
       "      <td>98.74</td>\n",
       "      <td>59.72</td>\n",
       "      <td>40.82</td>\n",
       "      <td>22.21</td>\n",
       "      <td>63.29</td>\n",
       "      <td>56.25</td>\n",
       "      <td>341.03</td>\n",
       "    </tr>\n",
       "    <tr>\n",
       "      <th>1</th>\n",
       "      <td>albania</td>\n",
       "      <td>26211.0</td>\n",
       "      <td>598.0</td>\n",
       "      <td>ALB</td>\n",
       "      <td>98.236114</td>\n",
       "      <td>19.11</td>\n",
       "      <td>0.001675</td>\n",
       "      <td>0.044813</td>\n",
       "      <td>12.11</td>\n",
       "      <td>2878000.0</td>\n",
       "      <td>...</td>\n",
       "      <td>123.0</td>\n",
       "      <td>15278.0</td>\n",
       "      <td>Europe</td>\n",
       "      <td>109.27</td>\n",
       "      <td>97.74</td>\n",
       "      <td>81.63</td>\n",
       "      <td>56.61</td>\n",
       "      <td>79.16</td>\n",
       "      <td>64.88</td>\n",
       "      <td>489.28</td>\n",
       "    </tr>\n",
       "    <tr>\n",
       "      <th>2</th>\n",
       "      <td>algeria</td>\n",
       "      <td>65108.0</td>\n",
       "      <td>2111.0</td>\n",
       "      <td>DZA</td>\n",
       "      <td>60.411873</td>\n",
       "      <td>11.08</td>\n",
       "      <td>0.037430</td>\n",
       "      <td>0.785515</td>\n",
       "      <td>17.47</td>\n",
       "      <td>43851000.0</td>\n",
       "      <td>...</td>\n",
       "      <td>55.0</td>\n",
       "      <td>169988.0</td>\n",
       "      <td>Africa</td>\n",
       "      <td>100.09</td>\n",
       "      <td>97.92</td>\n",
       "      <td>61.95</td>\n",
       "      <td>44.65</td>\n",
       "      <td>81.26</td>\n",
       "      <td>64.88</td>\n",
       "      <td>450.75</td>\n",
       "    </tr>\n",
       "    <tr>\n",
       "      <th>3</th>\n",
       "      <td>andorra</td>\n",
       "      <td>5616.0</td>\n",
       "      <td>75.0</td>\n",
       "      <td>AND</td>\n",
       "      <td>57.769833</td>\n",
       "      <td>14.25</td>\n",
       "      <td>0.116842</td>\n",
       "      <td>0.389653</td>\n",
       "      <td>9.23</td>\n",
       "      <td>77000.0</td>\n",
       "      <td>...</td>\n",
       "      <td>166.0</td>\n",
       "      <td>3154.0</td>\n",
       "      <td>Europe</td>\n",
       "      <td>122.42</td>\n",
       "      <td>155.95</td>\n",
       "      <td>120.57</td>\n",
       "      <td>75.50</td>\n",
       "      <td>96.86</td>\n",
       "      <td>71.44</td>\n",
       "      <td>642.73</td>\n",
       "    </tr>\n",
       "    <tr>\n",
       "      <th>4</th>\n",
       "      <td>angola</td>\n",
       "      <td>13053.0</td>\n",
       "      <td>315.0</td>\n",
       "      <td>AGO</td>\n",
       "      <td>87.578274</td>\n",
       "      <td>4.78</td>\n",
       "      <td>1.880777</td>\n",
       "      <td>67.955665</td>\n",
       "      <td>3.23</td>\n",
       "      <td>32866000.0</td>\n",
       "      <td>...</td>\n",
       "      <td>66.0</td>\n",
       "      <td>94635.0</td>\n",
       "      <td>Africa</td>\n",
       "      <td>100.85</td>\n",
       "      <td>76.81</td>\n",
       "      <td>60.46</td>\n",
       "      <td>36.29</td>\n",
       "      <td>72.03</td>\n",
       "      <td>56.25</td>\n",
       "      <td>402.69</td>\n",
       "    </tr>\n",
       "    <tr>\n",
       "      <th>...</th>\n",
       "      <td>...</td>\n",
       "      <td>...</td>\n",
       "      <td>...</td>\n",
       "      <td>...</td>\n",
       "      <td>...</td>\n",
       "      <td>...</td>\n",
       "      <td>...</td>\n",
       "      <td>...</td>\n",
       "      <td>...</td>\n",
       "      <td>...</td>\n",
       "      <td>...</td>\n",
       "      <td>...</td>\n",
       "      <td>...</td>\n",
       "      <td>...</td>\n",
       "      <td>...</td>\n",
       "      <td>...</td>\n",
       "      <td>...</td>\n",
       "      <td>...</td>\n",
       "      <td>...</td>\n",
       "      <td>...</td>\n",
       "      <td>...</td>\n",
       "    </tr>\n",
       "    <tr>\n",
       "      <th>212</th>\n",
       "      <td>west bank and gaza</td>\n",
       "      <td>60784.0</td>\n",
       "      <td>542.0</td>\n",
       "      <td>PSE</td>\n",
       "      <td>49.911366</td>\n",
       "      <td>7.88</td>\n",
       "      <td>0.005127</td>\n",
       "      <td>0.221547</td>\n",
       "      <td>15.38</td>\n",
       "      <td>5101000.0</td>\n",
       "      <td>...</td>\n",
       "      <td>126.0</td>\n",
       "      <td>14616.0</td>\n",
       "      <td>Middle East</td>\n",
       "      <td>111.13</td>\n",
       "      <td>79.33</td>\n",
       "      <td>63.43</td>\n",
       "      <td>15.17</td>\n",
       "      <td>43.56</td>\n",
       "      <td>56.25</td>\n",
       "      <td>368.87</td>\n",
       "    </tr>\n",
       "    <tr>\n",
       "      <th>213</th>\n",
       "      <td>western sahara</td>\n",
       "      <td>10.0</td>\n",
       "      <td>1.0</td>\n",
       "      <td>NaN</td>\n",
       "      <td>NaN</td>\n",
       "      <td>NaN</td>\n",
       "      <td>NaN</td>\n",
       "      <td>NaN</td>\n",
       "      <td>NaN</td>\n",
       "      <td>NaN</td>\n",
       "      <td>...</td>\n",
       "      <td>NaN</td>\n",
       "      <td>NaN</td>\n",
       "      <td>Africa</td>\n",
       "      <td>87.71</td>\n",
       "      <td>59.89</td>\n",
       "      <td>43.10</td>\n",
       "      <td>20.53</td>\n",
       "      <td>45.44</td>\n",
       "      <td>56.25</td>\n",
       "      <td>312.93</td>\n",
       "    </tr>\n",
       "    <tr>\n",
       "      <th>214</th>\n",
       "      <td>yemen</td>\n",
       "      <td>2071.0</td>\n",
       "      <td>605.0</td>\n",
       "      <td>YEM</td>\n",
       "      <td>103.083377</td>\n",
       "      <td>7.61</td>\n",
       "      <td>0.037934</td>\n",
       "      <td>1.402170</td>\n",
       "      <td>8.35</td>\n",
       "      <td>29826000.0</td>\n",
       "      <td>...</td>\n",
       "      <td>102.0</td>\n",
       "      <td>27591.0</td>\n",
       "      <td>Middle east</td>\n",
       "      <td>98.95</td>\n",
       "      <td>57.06</td>\n",
       "      <td>40.70</td>\n",
       "      <td>35.89</td>\n",
       "      <td>72.30</td>\n",
       "      <td>56.25</td>\n",
       "      <td>361.15</td>\n",
       "    </tr>\n",
       "    <tr>\n",
       "      <th>215</th>\n",
       "      <td>zambia</td>\n",
       "      <td>17056.0</td>\n",
       "      <td>350.0</td>\n",
       "      <td>ZMB</td>\n",
       "      <td>76.977064</td>\n",
       "      <td>3.68</td>\n",
       "      <td>10.894447</td>\n",
       "      <td>137.761161</td>\n",
       "      <td>2.82</td>\n",
       "      <td>18384000.0</td>\n",
       "      <td>...</td>\n",
       "      <td>111.0</td>\n",
       "      <td>23065.0</td>\n",
       "      <td>Africa</td>\n",
       "      <td>104.48</td>\n",
       "      <td>90.66</td>\n",
       "      <td>62.21</td>\n",
       "      <td>49.68</td>\n",
       "      <td>67.34</td>\n",
       "      <td>64.88</td>\n",
       "      <td>439.25</td>\n",
       "    </tr>\n",
       "    <tr>\n",
       "      <th>216</th>\n",
       "      <td>zimbabwe</td>\n",
       "      <td>8696.0</td>\n",
       "      <td>255.0</td>\n",
       "      <td>ZWE</td>\n",
       "      <td>138.522267</td>\n",
       "      <td>7.41</td>\n",
       "      <td>13.657982</td>\n",
       "      <td>130.353613</td>\n",
       "      <td>4.86</td>\n",
       "      <td>14863000.0</td>\n",
       "      <td>...</td>\n",
       "      <td>112.0</td>\n",
       "      <td>21441.0</td>\n",
       "      <td>Africa</td>\n",
       "      <td>100.09</td>\n",
       "      <td>71.16</td>\n",
       "      <td>41.19</td>\n",
       "      <td>35.47</td>\n",
       "      <td>66.67</td>\n",
       "      <td>56.25</td>\n",
       "      <td>370.83</td>\n",
       "    </tr>\n",
       "  </tbody>\n",
       "</table>\n",
       "<p>215 rows × 33 columns</p>\n",
       "</div>"
      ],
      "text/plain": [
       "                country  cum_case_count  cum_death_count code  \\\n",
       "0           afghanistan         42795.0           1591.0  AFG   \n",
       "1               albania         26211.0            598.0  ALB   \n",
       "2               algeria         65108.0           2111.0  DZA   \n",
       "3               andorra          5616.0             75.0  AND   \n",
       "4                angola         13053.0            315.0  AGO   \n",
       "..                  ...             ...              ...  ...   \n",
       "212  west bank and gaza         60784.0            542.0  PSE   \n",
       "213      western sahara            10.0              1.0  NaN   \n",
       "214               yemen          2071.0            605.0  YEM   \n",
       "215              zambia         17056.0            350.0  ZMB   \n",
       "216            zimbabwe          8696.0            255.0  ZWE   \n",
       "\n",
       "     deaths_smoking_sex_both_age_age_standardized_rate  smoking_ihme_2019  \\\n",
       "0                                            89.891759               4.08   \n",
       "1                                            98.236114              19.11   \n",
       "2                                            60.411873              11.08   \n",
       "3                                            57.769833              14.25   \n",
       "4                                            87.578274               4.78   \n",
       "..                                                 ...                ...   \n",
       "212                                          49.911366               7.88   \n",
       "213                                                NaN                NaN   \n",
       "214                                         103.083377               7.61   \n",
       "215                                          76.977064               3.68   \n",
       "216                                         138.522267               7.41   \n",
       "\n",
       "     prevalence_hivaids_sex_both_age_15_49_years_percent  \\\n",
       "0                                             0.026428     \n",
       "1                                             0.001675     \n",
       "2                                             0.037430     \n",
       "3                                             0.116842     \n",
       "4                                             1.880777     \n",
       "..                                                 ...     \n",
       "212                                           0.005127     \n",
       "213                                                NaN     \n",
       "214                                           0.037934     \n",
       "215                                          10.894447     \n",
       "216                                          13.657982     \n",
       "\n",
       "     deaths_hivaids_sex_both_age_age_standardized_rate  obesity_ihme_2019  \\\n",
       "0                                             1.087497               8.50   \n",
       "1                                             0.044813              12.11   \n",
       "2                                             0.785515              17.47   \n",
       "3                                             0.389653               9.23   \n",
       "4                                            67.955665               3.23   \n",
       "..                                                 ...                ...   \n",
       "212                                           0.221547              15.38   \n",
       "213                                                NaN                NaN   \n",
       "214                                           1.402170               8.35   \n",
       "215                                         137.761161               2.82   \n",
       "216                                         130.353613               4.86   \n",
       "\n",
       "       pop_2020  ...  ranking  us dollars in mil   global region  \\\n",
       "0    38928000.0  ...    114.0            19101.0  Asia & Pacific   \n",
       "1     2878000.0  ...    123.0            15278.0          Europe   \n",
       "2    43851000.0  ...     55.0           169988.0          Africa   \n",
       "3       77000.0  ...    166.0             3154.0          Europe   \n",
       "4    32866000.0  ...     66.0            94635.0          Africa   \n",
       "..          ...  ...      ...                ...             ...   \n",
       "212   5101000.0  ...    126.0            14616.0     Middle East   \n",
       "213         NaN  ...      NaN                NaN          Africa   \n",
       "214  29826000.0  ...    102.0            27591.0     Middle east   \n",
       "215  18384000.0  ...    111.0            23065.0          Africa   \n",
       "216  14863000.0  ...    112.0            21441.0          Africa   \n",
       "\n",
       "     quarantine efficiency  gov efficiency  monitoring and detection  \\\n",
       "0                    98.74           59.72                     40.82   \n",
       "1                   109.27           97.74                     81.63   \n",
       "2                   100.09           97.92                     61.95   \n",
       "3                   122.42          155.95                    120.57   \n",
       "4                   100.85           76.81                     60.46   \n",
       "..                     ...             ...                       ...   \n",
       "212                 111.13           79.33                     63.43   \n",
       "213                  87.71           59.89                     43.10   \n",
       "214                  98.95           57.06                     40.70   \n",
       "215                 104.48           90.66                     62.21   \n",
       "216                 100.09           71.16                     41.19   \n",
       "\n",
       "     healthcare readiness  country vulnerability  emergency preparedness  \\\n",
       "0                   22.21                  63.29                   56.25   \n",
       "1                   56.61                  79.16                   64.88   \n",
       "2                   44.65                  81.26                   64.88   \n",
       "3                   75.50                  96.86                   71.44   \n",
       "4                   36.29                  72.03                   56.25   \n",
       "..                    ...                    ...                     ...   \n",
       "212                 15.17                  43.56                   56.25   \n",
       "213                 20.53                  45.44                   56.25   \n",
       "214                 35.89                  72.30                   56.25   \n",
       "215                 49.68                  67.34                   64.88   \n",
       "216                 35.47                  66.67                   56.25   \n",
       "\n",
       "     total score  \n",
       "0         341.03  \n",
       "1         489.28  \n",
       "2         450.75  \n",
       "3         642.73  \n",
       "4         402.69  \n",
       "..           ...  \n",
       "212       368.87  \n",
       "213       312.93  \n",
       "214       361.15  \n",
       "215       439.25  \n",
       "216       370.83  \n",
       "\n",
       "[215 rows x 33 columns]"
      ]
     },
     "execution_count": 149,
     "metadata": {},
     "output_type": "execute_result"
    }
   ],
   "source": [
    "cum_df"
   ]
  },
  {
   "cell_type": "code",
   "execution_count": 150,
   "metadata": {},
   "outputs": [
    {
     "data": {
      "text/plain": [
       "Index(['country', 'countrycode', 'date', 'case_count', 'death_count',\n",
       "       'school_close', 'domestic_travel', 'internat_travel', 'large_gather',\n",
       "       'public_events', 'stay_home', 'work_close', 'public_transpo',\n",
       "       'gdp_rank', 'gdp_in_mil_us', 'smoking_ihme_2019', 'pop_2020',\n",
       "       'pop_den_per_sqkm', 'un_population_division_median_age_2017',\n",
       "       'ages_65_and_above_of_total_population',\n",
       "       'prevalence_hivaids_sex_both_age_15_49_years_percent',\n",
       "       'deaths_hivaids_sex_both_age', 'diabetes_prev_ages_20_to_79',\n",
       "       'deaths_smoking_sex_both_age_age_standardized_rate',\n",
       "       'cancer_prevalence', 'htn_prevalence', 'copd_dalys_per_100000',\n",
       "       'obesity_ihme_2019', 'country_vulnerability', 'emergency_preparedness',\n",
       "       'gov_efficiency', 'quarantine_efficiency', 'total_score',\n",
       "       'mers_case_count', 'sars_case_count', 'mers_sars_sum',\n",
       "       'mers_sars_quart', 'mers_sars_max', 'number_of_deathsa',\n",
       "       'number_of_imported_cases', 'percent_of_imported_cases', 'case1',\n",
       "       'case2', 'case3', 'case4', 'case5', 'case6', 'case7', 'case8', 'case9',\n",
       "       'case10', 'case11', 'case12', 'case13', 'case14', 'case15', 'case16',\n",
       "       'case17', 'case18', 'case19', 'case20', 'case21', 'death1', 'death2',\n",
       "       'death3', 'death4', 'death5', 'death6', 'death7', 'death8', 'death9',\n",
       "       'death10', 'death11', 'death12', 'death13', 'death14', 'death15',\n",
       "       'death16', 'death17', 'death18', 'death19', 'death20', 'death21',\n",
       "       'mers_sars_exp1', 'mers_sars_exp5', 'mers_sars_exp10',\n",
       "       'mers_sars_exp20', 'mers_sars_exp100', 'mers_sars_exp200',\n",
       "       'log_case_count', 'log_death_count', 'case_rol_mean7',\n",
       "       'case_rol_mean_lag7', 'death_rol_mean7', 'death_rol_mean_lag7', 'dup'],\n",
       "      dtype='object')"
      ]
     },
     "execution_count": 150,
     "metadata": {},
     "output_type": "execute_result"
    }
   ],
   "source": [
    "finaldf.columns"
   ]
  },
  {
   "cell_type": "markdown",
   "metadata": {},
   "source": [
    "# Calculating the peak transmission and death dates"
   ]
  },
  {
   "cell_type": "code",
   "execution_count": 151,
   "metadata": {},
   "outputs": [],
   "source": [
    "time_to_event = finaldf[['country','case_count','death_count',\n",
    "                         'case_rol_mean7','death_rol_mean7','date',\n",
    "                         'school_close', 'work_close', 'public_transpo',\n",
    "                         'domestic_travel','large_gather','public_events', \n",
    "                         'stay_home','pop_2020','pop_den_per_sqkm', 'un_population_division_median_age_2017',\n",
    "                         'ages_65_and_above_of_total_population','prevalence_hivaids_sex_both_age_15_49_years_percent',\n",
    "                         'deaths_hivaids_sex_both_age', 'diabetes_prev_ages_20_to_79',\n",
    "                         'deaths_smoking_sex_both_age_age_standardized_rate',\n",
    "                         'cancer_prevalence', 'htn_prevalence', 'copd_dalys_per_100000',\n",
    "                         'obesity_ihme_2019', 'country_vulnerability', 'emergency_preparedness',\n",
    "                         'gov_efficiency', 'quarantine_efficiency', 'total_score','mers_sars_quart']].copy()\n",
    "\n",
    "#Getting the maximum value for the rolling mean for each country\n",
    "max_rol_mean_c = time_to_event.groupby('country').case_rol_mean7.max().reset_index()\n",
    "max_rol_mean_c.rename(columns = {'case_rol_mean7':'case_max_rol_mean7'},inplace=True)\n",
    "max_rol_mean_d = time_to_event.groupby('country').death_rol_mean7.max().reset_index()\n",
    "max_rol_mean_d.rename(columns = {'death_rol_mean7':'death_max_rol_mean7'},inplace=True)\n",
    "time_to_event = time_to_event.merge(max_rol_mean_c, on='country')\n",
    "time_to_event = time_to_event.merge(max_rol_mean_d, on='country')\n",
    "\n",
    "\n",
    "#Creating the peak death and case indicators\n",
    "time_to_event['peak_case'] = 0\n",
    "time_to_event['peak_death'] = 0\n",
    "time_to_event.loc[time_to_event.case_rol_mean7.round(3) == time_to_event['case_max_rol_mean7'].round(3), 'peak_case'] = 1 \n",
    "time_to_event.loc[time_to_event.death_rol_mean7.round(3) == time_to_event['death_max_rol_mean7'].round(3), 'peak_death'] = 1\n",
    "\n",
    "\n",
    "# Creating the peak case dates\n",
    "peak_dates_c = time_to_event.loc[time_to_event.peak_case == 1][['country','date']]\n",
    "peak_dates_c.rename(columns={'date':'case_peak_date'},inplace=True)\n",
    "    # Finding and flagging countries with multiple peaks\n",
    "multiple_peak_c = peak_dates_c.country.value_counts().to_frame()\n",
    "multiple_peak_c = multiple_peak_c.loc[multiple_peak_c.country > 1]\n",
    "muli_peak_case_countries = multiple_peak_c.index\n",
    "peak_dates_c['case_muli_peak'] = 0\n",
    "for country in muli_peak_case_countries:\n",
    "    peak_dates_c.loc[peak_dates_c.country== country, 'case_muli_peak'] = 1\n",
    "peak_dates_c, date_offset = peak_date_cleaner(peak_dates_c, 'case_muli_peak','case_peak_date')\n",
    "\n",
    "\n",
    "# Creating the peak death dates\n",
    "peak_dates_d = time_to_event.loc[time_to_event.peak_death == 1][['country','date']]\n",
    "peak_dates_d.rename(columns={'date':'death_peak_date'},inplace=True)\n",
    "    # Finding and flagging countries with multiple peaks\n",
    "multiple_peak_d = peak_dates_d.country.value_counts().head(60).to_frame()\n",
    "multiple_peak_d = multiple_peak_d.loc[multiple_peak_d.country > 1]\n",
    "muli_peak_death_countries = multiple_peak_d.index\n",
    "peak_dates_d['death_muli_peak'] = 0\n",
    "for country in muli_peak_case_countries:\n",
    "    peak_dates_d.loc[peak_dates_d.country== country, 'death_muli_peak'] = 1\n",
    "peak_dates_d, date_offset  = peak_date_cleaner(peak_dates_d, 'death_muli_peak','death_peak_date')  \n",
    "\n",
    "\n",
    "peak_dates = peak_dates_c.merge(peak_dates_d,on='country')\n",
    "time_to_event = pd.merge(left=time_to_event, right=peak_dates, on='country', how='outer')\n",
    "\n",
    "\n",
    "# Setting the Post Peak Period\n",
    "time_to_event.loc[time_to_event.date > time_to_event.case_peak_date, 'peak_case'] = 2\n",
    "time_to_event.loc[time_to_event.date > time_to_event.death_peak_date, 'peak_death'] = 2\n",
    "\n",
    "time_to_event.loc[time_to_event.case_peak_date == finaldf.date.dt.date.max() + pd.DateOffset(days=date_offset),'peak_case'] = 0\n",
    "time_to_event.loc[time_to_event.death_peak_date == finaldf.date.dt.date.max() + pd.DateOffset(days=date_offset), 'peak_death'] = 0\n",
    "\n",
    "# Removing all case and death counts that occurred after the peak in reports \n",
    "time_to_event.loc[time_to_event.peak_case==2, 'case_count'] = np.nan\n",
    "time_to_event.loc[time_to_event.peak_death==2, 'death_count'] = np.nan\n",
    "\n",
    "\n",
    "#Removing all values the occured before the 1st case report\n",
    "time_to_event['case_reported'] = 0\n",
    "time_to_event['death_reported'] = 0\n",
    "time_to_event.loc[time_to_event.case_count > 0 ,'case_reported'] = 1\n",
    "time_to_event.loc[time_to_event.death_count > 0 ,'death_reported'] = 1\n",
    "time_to_event['first_case_reported'] = 0\n",
    "time_to_event['first_death_reported'] = 0\n",
    "time_to_event['day'] =''"
   ]
  },
  {
   "cell_type": "code",
   "execution_count": 152,
   "metadata": {},
   "outputs": [
    {
     "data": {
      "text/plain": [
       "Timestamp('2020-11-12 00:00:00')"
      ]
     },
     "execution_count": 152,
     "metadata": {},
     "output_type": "execute_result"
    }
   ],
   "source": [
    "time_to_event.loc[time_to_event.country == 'andorra'].date.max()"
   ]
  },
  {
   "cell_type": "code",
   "execution_count": 153,
   "metadata": {},
   "outputs": [],
   "source": [
    "# # Identifying the Countries with two peaks the occur in consecutive days\n",
    "# for countries in two_peaks_country:\n",
    "#     print(peak_dates.loc[peak_dates.country == countries ])\n",
    "    "
   ]
  },
  {
   "cell_type": "markdown",
   "metadata": {},
   "source": [
    "## Evaluating the Countries With Multiple Peak Values"
   ]
  },
  {
   "cell_type": "code",
   "execution_count": 154,
   "metadata": {},
   "outputs": [
    {
     "name": "stdout",
     "output_type": "stream",
     "text": [
      "The number of countries with more than one date where the same peak value for rolling mean case count was calculated: 28\n"
     ]
    }
   ],
   "source": [
    "print(f'The number of countries with more than one date where the same peak value for rolling mean case count was calculated: {multiple_peak_c.shape[0]}')"
   ]
  },
  {
   "cell_type": "code",
   "execution_count": 155,
   "metadata": {},
   "outputs": [
    {
     "name": "stdout",
     "output_type": "stream",
     "text": [
      "The number of countries with more than one date where the same peak value for rolling mean death count was calculated: 60\n"
     ]
    }
   ],
   "source": [
    "print(f'The number of countries with more than one date where the same peak value for rolling mean death count was calculated: {multiple_peak_d.shape[0]}')"
   ]
  },
  {
   "cell_type": "code",
   "execution_count": 156,
   "metadata": {},
   "outputs": [
    {
     "data": {
      "text/plain": [
       "Index(['marshall islands', 'equatorial guinea', 'western sahara', 'laos',\n",
       "       'grenada', 'antigua and barbuda', 'seychelles', 'burundi', 'botswana',\n",
       "       'vanuatu', 'gabon', 'switzerland', 'chad', 'comoros', 'ms zaandam',\n",
       "       'mongolia', 'saint vincent and the grenadines', 'bhutan',\n",
       "       'saint kitts and nevis', 'barbados', 'andorra', 'holy see', 'eritrea',\n",
       "       'nicaragua', 'central african republic', 'ghana', 'congo (brazzaville)',\n",
       "       'fiji'],\n",
       "      dtype='object')"
      ]
     },
     "execution_count": 156,
     "metadata": {},
     "output_type": "execute_result"
    }
   ],
   "source": [
    "muli_peak_case_countries"
   ]
  },
  {
   "cell_type": "code",
   "execution_count": 157,
   "metadata": {},
   "outputs": [
    {
     "data": {
      "text/plain": [
       "Text(0.5, 1.0, 'Countries With Multiple Peak Dates in the Rolling Mean Case Count')"
      ]
     },
     "execution_count": 157,
     "metadata": {},
     "output_type": "execute_result"
    },
    {
     "data": {
      "image/png": "[encoded data removed]",
      "text/plain": [
       "<Figure size 1080x648 with 1 Axes>"
      ]
     },
     "metadata": {
      "needs_background": "light"
     },
     "output_type": "display_data"
    }
   ],
   "source": [
    "for countries in muli_peak_case_countries:\n",
    "    sns.lineplot(y ='case_rol_mean7',x='date',data = finaldf.loc[finaldf.country ==countries],label=countries)\n",
    "    plt.legend(loc='best')\n",
    "plt.title('Countries With Multiple Peak Dates in the Rolling Mean Case Count')"
   ]
  },
  {
   "cell_type": "markdown",
   "metadata": {},
   "source": [
    "### Low Case Count countries With More Than One Peak Case Date"
   ]
  },
  {
   "cell_type": "code",
   "execution_count": 158,
   "metadata": {},
   "outputs": [],
   "source": [
    "# case_multi_peak_country = peak_dates_c.loc[(peak_dates_c.case_muli_peak == 1)].groupby('country').case_peak_date.nunique().to_frame()\n",
    "# two_peaks_country = case_multi_peak_country.loc[case_multi_peak_country.case_peak_date ==2].index\n",
    "# two_peaks_country"
   ]
  },
  {
   "cell_type": "code",
   "execution_count": 159,
   "metadata": {},
   "outputs": [],
   "source": [
    "# rol_mean_limit = 100\n",
    "# for countries in muli_peak_case_countries:\n",
    "#     sns.lineplot(y ='case_rol_mean7',x='date',data = finaldf.loc[(finaldf.country ==countries) & (finaldf.groupby('country').case_rol_mean7.max() < rol_mean_limit)],label=countries)\n",
    "#     plt.legend(loc='best')\n",
    "# plt.title(f\"\"\"Countries With Multiple Peak Dates in the Rolling Mean Case Count & \n",
    "# A Rolling Mean Lower Than{rol_mean_limit}\"\"\")"
   ]
  },
  {
   "cell_type": "code",
   "execution_count": 160,
   "metadata": {},
   "outputs": [
    {
     "data": {
      "text/plain": [
       "Text(0, 0.5, 'Number of Cases')"
      ]
     },
     "execution_count": 160,
     "metadata": {},
     "output_type": "execute_result"
    },
    {
     "data": {
      "image/png": "[encoded data removed]",
      "text/plain": [
       "<Figure size 1080x648 with 1 Axes>"
      ]
     },
     "metadata": {
      "needs_background": "light"
     },
     "output_type": "display_data"
    }
   ],
   "source": [
    "country = 'ecuador'\n",
    "sns.lineplot(y ='case_rol_mean7',x='date' ,data = finaldf.loc[finaldf.country ==country],label='Rolling 7-Day Mean')\n",
    "sns.lineplot(y ='case_count',x='date' ,data = finaldf.loc[finaldf.country ==country],label='Daily Case Count')\n",
    "plt.title(f'Rolling Mean Case Count in {country[0].upper()}{country[1:]}')\n",
    "plt.ylabel('Number of Cases')"
   ]
  },
  {
   "cell_type": "code",
   "execution_count": 161,
   "metadata": {},
   "outputs": [
    {
     "data": {
      "text/plain": [
       "Index(['mongolia', 'timor-leste', 'solomon islands', 'bhutan', 'eritrea',\n",
       "       'laos', 'marshall islands', 'dominica', 'holy see',\n",
       "       'saint kitts and nevis', 'grenada', 'cambodia',\n",
       "       'saint vincent and the grenadines', 'seychelles', 'vanuatu', 'burundi',\n",
       "       'western sahara', 'ms zaandam', 'antigua and barbuda',\n",
       "       'diamond princess', 'mauritius', 'brunei', 'taiwan', 'cyprus',\n",
       "       'papua new guinea', 'lesotho', 'barbados', 'tajikistan', 'botswana',\n",
       "       'monaco', 'sao tome and principe', 'guinea', 'new zealand', 'maldives',\n",
       "       'singapore', 'liechtenstein', 'djibouti', 'sierra leone', 'comoros',\n",
       "       'ghana', 'suriname', 'eswatini', 'fiji', 'somalia', 'congo (kinshasa)',\n",
       "       'gambia', 'mali', 'tanzania', 'liberia', 'congo (brazzaville)', 'benin',\n",
       "       'south korea', 'bahrain', 'burkina faso', 'japan', 'mozambique',\n",
       "       'south sudan', 'guinea-bissau', 'trinidad and tobago', 'san marino'],\n",
       "      dtype='object')"
      ]
     },
     "execution_count": 161,
     "metadata": {},
     "output_type": "execute_result"
    }
   ],
   "source": [
    "muli_peak_death_countries"
   ]
  },
  {
   "cell_type": "code",
   "execution_count": 162,
   "metadata": {},
   "outputs": [],
   "source": [
    "for country in time_to_event.country.unique():\n",
    "    df = time_to_event.loc[time_to_event.country == country]\n",
    "    date_c = df.iloc[df.case_reported.ne(0).argmax()]['date']\n",
    "    date_d = df.iloc[df.death_reported.ne(0).argmax()]['date']\n",
    "    time_to_event.loc[(time_to_event.country == country) & (time_to_event.date >= date_c),'first_case_reported'] = 1\n",
    "    time_to_event.loc[(time_to_event.country == country) & (time_to_event.date >= date_d),'first_death_reported'] = 1\n",
    "del df\n",
    "time_to_event_case = time_to_event.loc[(time_to_event.first_case_reported > 0) & (time_to_event.peak_case < 2) & (time_to_event.case_muli_peak == 0)].reset_index()\n",
    "time_to_event_case = time_to_event_case.drop(columns=['death_peak_date', 'case_reported', 'death_reported',\n",
    "                                 'first_case_reported', 'first_death_reported','death_count',\n",
    "                                 'death_rol_mean7','death_max_rol_mean7'])\n",
    "time_to_event_death = time_to_event.loc[(time_to_event.first_death_reported > 0) & (time_to_event.peak_death < 2)& (time_to_event.death_muli_peak == 0)].reset_index()\n",
    "time_to_event_death = time_to_event_death.drop(columns=['case_count','case_rol_mean7','case_max_rol_mean7',\n",
    "                                                        'case_peak_date','case_muli_peak','death_reported', \n",
    "                                                        'first_case_reported', 'first_death_reported'])\n",
    "counter = 0\n",
    "# Creates the day count variable\n",
    "for country in time_to_event.country.unique():\n",
    "    time_to_event_case.loc[time_to_event_case.country == country ,'day'] = (time_to_event_case.loc[time_to_event_case.country == country].date - (time_to_event_case.loc[time_to_event_case.country == country].date.min() + pd.DateOffset(-1)))\n",
    "    time_to_event_death.loc[time_to_event_death.country == country ,'day'] = (time_to_event_death.loc[time_to_event_death.country == country].date - (time_to_event_death.loc[time_to_event_death.country == country].date.min() + pd.DateOffset(-1)))\n",
    "time_to_event_case['day_num'] = time_to_event_case.day.astype('timedelta64[D]').dt.components.days\n",
    "time_to_event_death['day_num'] = time_to_event_death.day.astype('timedelta64[D]').dt.components.days"
   ]
  },
  {
   "cell_type": "markdown",
   "metadata": {},
   "source": [
    "# Creating the control var composite variable"
   ]
  },
  {
   "cell_type": "code",
   "execution_count": 163,
   "metadata": {},
   "outputs": [
    {
     "data": {
      "text/plain": [
       "Index(['index', 'country', 'case_count', 'case_rol_mean7', 'date',\n",
       "       'school_close', 'work_close', 'public_transpo', 'domestic_travel',\n",
       "       'large_gather', 'public_events', 'stay_home', 'pop_2020',\n",
       "       'pop_den_per_sqkm', 'un_population_division_median_age_2017',\n",
       "       'ages_65_and_above_of_total_population',\n",
       "       'prevalence_hivaids_sex_both_age_15_49_years_percent',\n",
       "       'deaths_hivaids_sex_both_age', 'diabetes_prev_ages_20_to_79',\n",
       "       'deaths_smoking_sex_both_age_age_standardized_rate',\n",
       "       'cancer_prevalence', 'htn_prevalence', 'copd_dalys_per_100000',\n",
       "       'obesity_ihme_2019', 'country_vulnerability', 'emergency_preparedness',\n",
       "       'gov_efficiency', 'quarantine_efficiency', 'total_score',\n",
       "       'mers_sars_quart', 'case_max_rol_mean7', 'peak_case', 'peak_death',\n",
       "       'case_peak_date', 'case_muli_peak', 'death_muli_peak', 'day',\n",
       "       'day_num'],\n",
       "      dtype='object')"
      ]
     },
     "execution_count": 163,
     "metadata": {},
     "output_type": "execute_result"
    }
   ],
   "source": [
    "time_to_event_case.columns"
   ]
  },
  {
   "cell_type": "markdown",
   "metadata": {},
   "source": [
    "### Calculating the number of observations per country"
   ]
  },
  {
   "cell_type": "code",
   "execution_count": 164,
   "metadata": {},
   "outputs": [
    {
     "data": {
      "text/plain": [
       "(294, 268)"
      ]
     },
     "execution_count": 164,
     "metadata": {},
     "output_type": "execute_result"
    }
   ],
   "source": [
    "time_to_event_case.day_num.max(), time_to_event_death.day_num.max()"
   ]
  },
  {
   "cell_type": "code",
   "execution_count": 165,
   "metadata": {},
   "outputs": [],
   "source": [
    "num_obs_country = time_to_event_case.country.value_counts().to_frame()\n",
    "num_obs_country.rename(columns={'country':'n_days'},inplace=True)\n",
    "num_obs_country = num_obs_country.reset_index()\n",
    "num_obs_country.set_index('index',inplace=True)\n"
   ]
  },
  {
   "cell_type": "code",
   "execution_count": 166,
   "metadata": {},
   "outputs": [
    {
     "data": {
      "text/plain": [
       "Text(10.049999999999997, 0.5, 'Number of Countries')"
      ]
     },
     "execution_count": 166,
     "metadata": {},
     "output_type": "execute_result"
    },
    {
     "data": {
      "image/png": "[encoded data removed]",
      "text/plain": [
       "<Figure size 360x360 with 1 Axes>"
      ]
     },
     "metadata": {
      "needs_background": "light"
     },
     "output_type": "display_data"
    }
   ],
   "source": [
    "sns.displot(x='n_days', data=num_obs_country)\n",
    "plt.title('Distribution of the Number of Obs. per Country')\n",
    "plt.xlabel('Number of Observations')\n",
    "plt.ylabel('Number of Countries')"
   ]
  },
  {
   "cell_type": "code",
   "execution_count": 167,
   "metadata": {},
   "outputs": [
    {
     "data": {
      "text/plain": [
       "count    163.000000\n",
       "mean     179.705521\n",
       "std       79.910438\n",
       "min       11.000000\n",
       "25%      116.500000\n",
       "50%      197.000000\n",
       "75%      251.000000\n",
       "max      294.000000\n",
       "Name: country, dtype: float64"
      ]
     },
     "execution_count": 167,
     "metadata": {},
     "output_type": "execute_result"
    }
   ],
   "source": [
    "time_to_event_case.country.value_counts().to_frame()['country'].describe()"
   ]
  },
  {
   "cell_type": "markdown",
   "metadata": {},
   "source": [
    "# After PCA If not all of the variables are needed in the composite then drop them here"
   ]
  },
  {
   "cell_type": "code",
   "execution_count": 168,
   "metadata": {},
   "outputs": [
    {
     "data": {
      "text/html": [
       "<div>\n",
       "<style scoped>\n",
       "    .dataframe tbody tr th:only-of-type {\n",
       "        vertical-align: middle;\n",
       "    }\n",
       "\n",
       "    .dataframe tbody tr th {\n",
       "        vertical-align: top;\n",
       "    }\n",
       "\n",
       "    .dataframe thead th {\n",
       "        text-align: right;\n",
       "    }\n",
       "</style>\n",
       "<table border=\"1\" class=\"dataframe\">\n",
       "  <thead>\n",
       "    <tr style=\"text-align: right;\">\n",
       "      <th></th>\n",
       "      <th>school_close</th>\n",
       "      <th>work_close</th>\n",
       "      <th>public_transpo</th>\n",
       "      <th>domestic_travel</th>\n",
       "      <th>large_gather</th>\n",
       "      <th>public_events</th>\n",
       "      <th>stay_home</th>\n",
       "    </tr>\n",
       "  </thead>\n",
       "  <tbody>\n",
       "    <tr>\n",
       "      <th>count</th>\n",
       "      <td>25403.00000</td>\n",
       "      <td>25383.000000</td>\n",
       "      <td>25401.000000</td>\n",
       "      <td>25396.000000</td>\n",
       "      <td>25395.000000</td>\n",
       "      <td>25395.000000</td>\n",
       "      <td>25395.000000</td>\n",
       "    </tr>\n",
       "    <tr>\n",
       "      <th>mean</th>\n",
       "      <td>2.22702</td>\n",
       "      <td>1.629004</td>\n",
       "      <td>0.737254</td>\n",
       "      <td>1.145062</td>\n",
       "      <td>2.760937</td>\n",
       "      <td>1.614255</td>\n",
       "      <td>1.147667</td>\n",
       "    </tr>\n",
       "    <tr>\n",
       "      <th>std</th>\n",
       "      <td>1.08311</td>\n",
       "      <td>0.999001</td>\n",
       "      <td>0.786711</td>\n",
       "      <td>0.908744</td>\n",
       "      <td>1.423921</td>\n",
       "      <td>0.699217</td>\n",
       "      <td>0.939877</td>\n",
       "    </tr>\n",
       "    <tr>\n",
       "      <th>min</th>\n",
       "      <td>0.00000</td>\n",
       "      <td>0.000000</td>\n",
       "      <td>0.000000</td>\n",
       "      <td>0.000000</td>\n",
       "      <td>0.000000</td>\n",
       "      <td>0.000000</td>\n",
       "      <td>0.000000</td>\n",
       "    </tr>\n",
       "    <tr>\n",
       "      <th>25%</th>\n",
       "      <td>2.00000</td>\n",
       "      <td>1.000000</td>\n",
       "      <td>0.000000</td>\n",
       "      <td>0.000000</td>\n",
       "      <td>2.000000</td>\n",
       "      <td>1.000000</td>\n",
       "      <td>0.000000</td>\n",
       "    </tr>\n",
       "    <tr>\n",
       "      <th>50%</th>\n",
       "      <td>3.00000</td>\n",
       "      <td>2.000000</td>\n",
       "      <td>1.000000</td>\n",
       "      <td>1.000000</td>\n",
       "      <td>3.000000</td>\n",
       "      <td>2.000000</td>\n",
       "      <td>1.000000</td>\n",
       "    </tr>\n",
       "    <tr>\n",
       "      <th>75%</th>\n",
       "      <td>3.00000</td>\n",
       "      <td>2.000000</td>\n",
       "      <td>1.000000</td>\n",
       "      <td>2.000000</td>\n",
       "      <td>4.000000</td>\n",
       "      <td>2.000000</td>\n",
       "      <td>2.000000</td>\n",
       "    </tr>\n",
       "    <tr>\n",
       "      <th>max</th>\n",
       "      <td>3.00000</td>\n",
       "      <td>3.000000</td>\n",
       "      <td>2.000000</td>\n",
       "      <td>2.000000</td>\n",
       "      <td>4.000000</td>\n",
       "      <td>2.000000</td>\n",
       "      <td>3.000000</td>\n",
       "    </tr>\n",
       "  </tbody>\n",
       "</table>\n",
       "</div>"
      ],
      "text/plain": [
       "       school_close    work_close  public_transpo  domestic_travel  \\\n",
       "count   25403.00000  25383.000000    25401.000000     25396.000000   \n",
       "mean        2.22702      1.629004        0.737254         1.145062   \n",
       "std         1.08311      0.999001        0.786711         0.908744   \n",
       "min         0.00000      0.000000        0.000000         0.000000   \n",
       "25%         2.00000      1.000000        0.000000         0.000000   \n",
       "50%         3.00000      2.000000        1.000000         1.000000   \n",
       "75%         3.00000      2.000000        1.000000         2.000000   \n",
       "max         3.00000      3.000000        2.000000         2.000000   \n",
       "\n",
       "       large_gather  public_events     stay_home  \n",
       "count  25395.000000   25395.000000  25395.000000  \n",
       "mean       2.760937       1.614255      1.147667  \n",
       "std        1.423921       0.699217      0.939877  \n",
       "min        0.000000       0.000000      0.000000  \n",
       "25%        2.000000       1.000000      0.000000  \n",
       "50%        3.000000       2.000000      1.000000  \n",
       "75%        4.000000       2.000000      2.000000  \n",
       "max        4.000000       2.000000      3.000000  "
      ]
     },
     "execution_count": 168,
     "metadata": {},
     "output_type": "execute_result"
    }
   ],
   "source": [
    "time_to_event_case[['school_close', 'work_close', 'public_transpo', 'domestic_travel',\n",
    "       'large_gather', 'public_events', 'stay_home',]].describe()"
   ]
  },
  {
   "cell_type": "code",
   "execution_count": 169,
   "metadata": {},
   "outputs": [],
   "source": [
    "control_var_list = ['school_close','work_close','public_transpo', 'domestic_travel', 'large_gather', 'public_events','stay_home']\n",
    "# control_var_list = ['school_close','work_close', 'large_gather', 'stay_home']"
   ]
  },
  {
   "cell_type": "code",
   "execution_count": 170,
   "metadata": {},
   "outputs": [],
   "source": [
    "# Creating the blank strigency index variable\n",
    "def si_maker(dset):\n",
    "    SI = pd.DataFrame({'country':list(dset.country.unique())})\n",
    "    SI.set_index('country',inplace=True)\n",
    "    for var in control_var_list:\n",
    "        df = dset.groupby('country')[var].value_counts().to_frame()\n",
    "        df.rename(columns={var:var+'_count'},inplace=True)\n",
    "        df.reset_index(inplace=True)\n",
    "        df[var+'_sum'] = df[var]*df[var+'_count']\n",
    "        df = df.groupby('country')[var+'_sum'].sum().to_frame()\n",
    "        df = df.merge(num_obs_country,left_index=True, right_index=True)\n",
    "        df['SI_'+ var] = df[var+'_sum'] /df.n_days\n",
    "        df = df.filter(['SI_'+ var])\n",
    "        SI = SI.merge(df,left_index=True, right_index=True,how='outer')\n",
    "        \n",
    "    del df\n",
    "    SI['SI_sum']= SI.iloc[0:,0:].sum(axis=1)\n",
    "    SI['constant'] = 100 / SI.SI_sum.max()\n",
    "    SI['sdi'] = SI['constant'] * SI['SI_sum']\n",
    "    SI.reset_index(inplace=True)\n",
    "    SI.rename(columns={'index':'country'},inplace=True)\n",
    "    return SI"
   ]
  },
  {
   "cell_type": "code",
   "execution_count": 171,
   "metadata": {},
   "outputs": [],
   "source": [
    "si_case = si_maker(time_to_event_case)\n",
    "si_death = si_maker(time_to_event_death)\n",
    "si_cum = si_maker(time_to_event.loc[time_to_event.peak_case < 2][['country','date','school_close','work_close','public_transpo', 'domestic_travel', 'large_gather', 'public_events','stay_home']])"
   ]
  },
  {
   "cell_type": "code",
   "execution_count": 172,
   "metadata": {},
   "outputs": [
    {
     "data": {
      "text/plain": [
       "Index(['country', 'SI_school_close', 'SI_work_close', 'SI_public_transpo',\n",
       "       'SI_domestic_travel', 'SI_large_gather', 'SI_public_events',\n",
       "       'SI_stay_home', 'SI_sum', 'constant', 'sdi'],\n",
       "      dtype='object')"
      ]
     },
     "execution_count": 172,
     "metadata": {},
     "output_type": "execute_result"
    }
   ],
   "source": [
    "si_case.columns"
   ]
  },
  {
   "cell_type": "code",
   "execution_count": 173,
   "metadata": {},
   "outputs": [
    {
     "data": {
      "text/html": [
       "<div>\n",
       "<style scoped>\n",
       "    .dataframe tbody tr th:only-of-type {\n",
       "        vertical-align: middle;\n",
       "    }\n",
       "\n",
       "    .dataframe tbody tr th {\n",
       "        vertical-align: top;\n",
       "    }\n",
       "\n",
       "    .dataframe thead th {\n",
       "        text-align: right;\n",
       "    }\n",
       "</style>\n",
       "<table border=\"1\" class=\"dataframe\">\n",
       "  <thead>\n",
       "    <tr style=\"text-align: right;\">\n",
       "      <th></th>\n",
       "      <th>country</th>\n",
       "      <th>SI_school_close</th>\n",
       "      <th>SI_work_close</th>\n",
       "      <th>SI_public_transpo</th>\n",
       "      <th>SI_domestic_travel</th>\n",
       "      <th>SI_large_gather</th>\n",
       "      <th>SI_public_events</th>\n",
       "      <th>SI_stay_home</th>\n",
       "      <th>SI_sum</th>\n",
       "      <th>constant</th>\n",
       "      <th>sdi</th>\n",
       "    </tr>\n",
       "  </thead>\n",
       "  <tbody>\n",
       "    <tr>\n",
       "      <th>0</th>\n",
       "      <td>afghanistan</td>\n",
       "      <td>2.446602</td>\n",
       "      <td>2.155340</td>\n",
       "      <td>1.359223</td>\n",
       "      <td>1.242718</td>\n",
       "      <td>2.407767</td>\n",
       "      <td>1.883495</td>\n",
       "      <td>1.417476</td>\n",
       "      <td>12.912621</td>\n",
       "      <td>5.543977</td>\n",
       "      <td>71.587271</td>\n",
       "    </tr>\n",
       "    <tr>\n",
       "      <th>1</th>\n",
       "      <td>albania</td>\n",
       "      <td>2.213710</td>\n",
       "      <td>1.846774</td>\n",
       "      <td>1.056452</td>\n",
       "      <td>0.645161</td>\n",
       "      <td>3.161290</td>\n",
       "      <td>1.862903</td>\n",
       "      <td>0.645161</td>\n",
       "      <td>11.431452</td>\n",
       "      <td>5.543977</td>\n",
       "      <td>63.375701</td>\n",
       "    </tr>\n",
       "    <tr>\n",
       "      <th>2</th>\n",
       "      <td>algeria</td>\n",
       "      <td>2.416031</td>\n",
       "      <td>1.721374</td>\n",
       "      <td>1.251908</td>\n",
       "      <td>1.053435</td>\n",
       "      <td>2.740458</td>\n",
       "      <td>1.465649</td>\n",
       "      <td>1.748092</td>\n",
       "      <td>12.396947</td>\n",
       "      <td>5.543977</td>\n",
       "      <td>68.728382</td>\n",
       "    </tr>\n",
       "    <tr>\n",
       "      <th>3</th>\n",
       "      <td>angola</td>\n",
       "      <td>2.766234</td>\n",
       "      <td>2.012987</td>\n",
       "      <td>1.064935</td>\n",
       "      <td>1.896104</td>\n",
       "      <td>3.549784</td>\n",
       "      <td>1.796537</td>\n",
       "      <td>1.506494</td>\n",
       "      <td>14.593074</td>\n",
       "      <td>5.543977</td>\n",
       "      <td>80.903659</td>\n",
       "    </tr>\n",
       "    <tr>\n",
       "      <th>4</th>\n",
       "      <td>argentina</td>\n",
       "      <td>2.832618</td>\n",
       "      <td>2.450644</td>\n",
       "      <td>1.828326</td>\n",
       "      <td>1.793991</td>\n",
       "      <td>3.725322</td>\n",
       "      <td>1.931330</td>\n",
       "      <td>2.030043</td>\n",
       "      <td>16.592275</td>\n",
       "      <td>5.543977</td>\n",
       "      <td>91.987184</td>\n",
       "    </tr>\n",
       "  </tbody>\n",
       "</table>\n",
       "</div>"
      ],
      "text/plain": [
       "       country  SI_school_close  SI_work_close  SI_public_transpo  \\\n",
       "0  afghanistan         2.446602       2.155340           1.359223   \n",
       "1      albania         2.213710       1.846774           1.056452   \n",
       "2      algeria         2.416031       1.721374           1.251908   \n",
       "3       angola         2.766234       2.012987           1.064935   \n",
       "4    argentina         2.832618       2.450644           1.828326   \n",
       "\n",
       "   SI_domestic_travel  SI_large_gather  SI_public_events  SI_stay_home  \\\n",
       "0            1.242718         2.407767          1.883495      1.417476   \n",
       "1            0.645161         3.161290          1.862903      0.645161   \n",
       "2            1.053435         2.740458          1.465649      1.748092   \n",
       "3            1.896104         3.549784          1.796537      1.506494   \n",
       "4            1.793991         3.725322          1.931330      2.030043   \n",
       "\n",
       "      SI_sum  constant        sdi  \n",
       "0  12.912621  5.543977  71.587271  \n",
       "1  11.431452  5.543977  63.375701  \n",
       "2  12.396947  5.543977  68.728382  \n",
       "3  14.593074  5.543977  80.903659  \n",
       "4  16.592275  5.543977  91.987184  "
      ]
     },
     "execution_count": 173,
     "metadata": {},
     "output_type": "execute_result"
    }
   ],
   "source": [
    "si_case.head(5)"
   ]
  },
  {
   "cell_type": "code",
   "execution_count": 174,
   "metadata": {},
   "outputs": [
    {
     "data": {
      "text/plain": [
       "Text(10.049999999999997, 0.5, 'Number of Countries')"
      ]
     },
     "execution_count": 174,
     "metadata": {},
     "output_type": "execute_result"
    },
    {
     "data": {
      "image/png": "[encoded data removed]",
      "text/plain": [
       "<Figure size 360x360 with 1 Axes>"
      ]
     },
     "metadata": {
      "needs_background": "light"
     },
     "output_type": "display_data"
    }
   ],
   "source": [
    "sns.displot(x='sdi', data=si_death)\n",
    "plt.title('Distribution of the SDI Values For the Death Data Set')\n",
    "plt.xlabel('SDI Value')\n",
    "plt.ylabel('Number of Countries')"
   ]
  },
  {
   "cell_type": "code",
   "execution_count": 175,
   "metadata": {},
   "outputs": [
    {
     "data": {
      "text/plain": [
       "Text(10.049999999999997, 0.5, 'Number of Countries')"
      ]
     },
     "execution_count": 175,
     "metadata": {},
     "output_type": "execute_result"
    },
    {
     "data": {
      "image/png": "[encoded data removed]",
      "text/plain": [
       "<Figure size 360x360 with 1 Axes>"
      ]
     },
     "metadata": {
      "needs_background": "light"
     },
     "output_type": "display_data"
    }
   ],
   "source": [
    "sns.displot(x='sdi', data=si_case)\n",
    "plt.title('Distribution of the SDI Values For the Case Data Set')\n",
    "plt.xlabel('SDI Value')\n",
    "plt.ylabel('Number of Countries')"
   ]
  },
  {
   "cell_type": "code",
   "execution_count": 176,
   "metadata": {},
   "outputs": [
    {
     "data": {
      "text/plain": [
       "Text(10.049999999999997, 0.5, 'Number of Countries')"
      ]
     },
     "execution_count": 176,
     "metadata": {},
     "output_type": "execute_result"
    },
    {
     "data": {
      "image/png": "[encoded data removed]",
      "text/plain": [
       "<Figure size 360x360 with 1 Axes>"
      ]
     },
     "metadata": {
      "needs_background": "light"
     },
     "output_type": "display_data"
    }
   ],
   "source": [
    "sns.displot(x='sdi', data=si_cum)\n",
    "plt.title('Distribution of the SDI Values For the Cumulative Data Set')\n",
    "plt.xlabel('SDI Value')\n",
    "plt.ylabel('Number of Countries')"
   ]
  },
  {
   "cell_type": "code",
   "execution_count": 177,
   "metadata": {},
   "outputs": [],
   "source": [
    "# si_case.loc[si_case.sdi  < 50].sort_values(by='sdi',ascending=False)"
   ]
  },
  {
   "cell_type": "markdown",
   "metadata": {},
   "source": [
    "# Doing the Final merge of the SDI into the Cumulative and Time to event Data Sets"
   ]
  },
  {
   "cell_type": "code",
   "execution_count": 178,
   "metadata": {},
   "outputs": [
    {
     "data": {
      "text/plain": [
       "214"
      ]
     },
     "execution_count": 178,
     "metadata": {},
     "output_type": "execute_result"
    }
   ],
   "source": [
    "si_cum.country.nunique()"
   ]
  },
  {
   "cell_type": "markdown",
   "metadata": {},
   "source": [
    "**Need** to create an SI for the cumulative case df The rationale behind this is that the cumulative df covers a wider date range"
   ]
  },
  {
   "cell_type": "code",
   "execution_count": 179,
   "metadata": {},
   "outputs": [
    {
     "data": {
      "text/plain": [
       "(215, 33)"
      ]
     },
     "execution_count": 179,
     "metadata": {},
     "output_type": "execute_result"
    }
   ],
   "source": [
    "cum_df.shape"
   ]
  },
  {
   "cell_type": "code",
   "execution_count": 180,
   "metadata": {},
   "outputs": [
    {
     "data": {
      "text/plain": [
       "0    53547\n",
       "2    13303\n",
       "1      172\n",
       "Name: peak_case, dtype: int64"
      ]
     },
     "execution_count": 180,
     "metadata": {},
     "output_type": "execute_result"
    }
   ],
   "source": [
    "time_to_event.peak_case.value_counts()"
   ]
  },
  {
   "cell_type": "code",
   "execution_count": 181,
   "metadata": {},
   "outputs": [
    {
     "data": {
      "text/plain": [
       "214"
      ]
     },
     "execution_count": 181,
     "metadata": {},
     "output_type": "execute_result"
    }
   ],
   "source": [
    "time_to_event.country.nunique()"
   ]
  },
  {
   "cell_type": "code",
   "execution_count": 182,
   "metadata": {},
   "outputs": [
    {
     "data": {
      "text/plain": [
       "(22305, 38)"
      ]
     },
     "execution_count": 182,
     "metadata": {},
     "output_type": "execute_result"
    }
   ],
   "source": [
    "time_to_event_death.shape"
   ]
  },
  {
   "cell_type": "code",
   "execution_count": 183,
   "metadata": {},
   "outputs": [
    {
     "data": {
      "text/plain": [
       "(215, 43)"
      ]
     },
     "execution_count": 183,
     "metadata": {},
     "output_type": "execute_result"
    }
   ],
   "source": [
    "cum_df = cum_df.merge(si_cum,on='country',how='inner')\n",
    "cum_df.shape"
   ]
  },
  {
   "cell_type": "code",
   "execution_count": 184,
   "metadata": {},
   "outputs": [
    {
     "data": {
      "text/plain": [
       "(22305, 48)"
      ]
     },
     "execution_count": 184,
     "metadata": {},
     "output_type": "execute_result"
    }
   ],
   "source": [
    "time_to_event_death = time_to_event_death.merge(si_death,on='country',how='inner')\n",
    "time_to_event_death.shape"
   ]
  },
  {
   "cell_type": "code",
   "execution_count": 185,
   "metadata": {},
   "outputs": [
    {
     "data": {
      "text/plain": [
       "(29292, 48)"
      ]
     },
     "execution_count": 185,
     "metadata": {},
     "output_type": "execute_result"
    }
   ],
   "source": [
    "time_to_event_case = time_to_event_case.merge(si_case,on='country')\n",
    "time_to_event_case.shape"
   ]
  },
  {
   "cell_type": "code",
   "execution_count": 186,
   "metadata": {},
   "outputs": [
    {
     "data": {
      "text/plain": [
       "Index(['country', 'cum_case_count', 'cum_death_count', 'code',\n",
       "       'deaths_smoking_sex_both_age_age_standardized_rate',\n",
       "       'smoking_ihme_2019',\n",
       "       'prevalence_hivaids_sex_both_age_15_49_years_percent',\n",
       "       'deaths_hivaids_sex_both_age_age_standardized_rate',\n",
       "       'obesity_ihme_2019', 'pop_2020', 'pop_den_per_sqkm',\n",
       "       'un_population_division_median_age_2017',\n",
       "       'diabetes_prevalence__of_population_ages_20_to_79', 'mers_case_count',\n",
       "       'sars_case_count', 'number_of_deathsa', 'number_of_imported_cases',\n",
       "       'percent_of_imported_cases', 'mers_sars_max', 'mers_sars_sum',\n",
       "       'mers_sars_quart', 'case_incid_100k', 'death_incid_100k', 'ranking',\n",
       "       'us dollars in mil', 'global region', 'quarantine efficiency',\n",
       "       'gov efficiency', 'monitoring and detection', 'healthcare readiness',\n",
       "       'country vulnerability', 'emergency preparedness', 'total score',\n",
       "       'SI_school_close', 'SI_work_close', 'SI_public_transpo',\n",
       "       'SI_domestic_travel', 'SI_large_gather', 'SI_public_events',\n",
       "       'SI_stay_home', 'SI_sum', 'constant', 'sdi'],\n",
       "      dtype='object')"
      ]
     },
     "execution_count": 186,
     "metadata": {},
     "output_type": "execute_result"
    }
   ],
   "source": [
    "cum_df.columns"
   ]
  },
  {
   "cell_type": "code",
   "execution_count": 187,
   "metadata": {},
   "outputs": [],
   "source": [
    "# old_names = ['SI_school_close_x', 'SI_work_close_x', 'SI_public_transpo_x',\n",
    "#        'SI_domestic_travel_x', 'SI_large_gather_x', 'SI_public_events_x',\n",
    "#        'SI_stay_home_x', 'SI_sum_x', 'constant_x', 'sdi_x',\n",
    "#        'SI_school_close_y', 'SI_work_close_y', 'SI_public_transpo_y',\n",
    "#        'SI_domestic_travel_y', 'SI_large_gather_y', 'SI_public_events_y',\n",
    "#        'SI_stay_home_y', 'SI_sum_y', 'constant_y', 'sdi_y']\n",
    "# new_names = ['SI_school_close', 'SI_work_close', 'SI_public_transpo',\n",
    "#        'SI_domestic_travel', 'SI_large_gather', 'SI_public_events',\n",
    "#        'SI_stay_home', 'SI_sum', 'constant', 'sdi',\n",
    "#        'SI_school_close', 'SI_work_close', 'SI_public_transpo',\n",
    "#        'SI_domestic_travel', 'SI_large_gather', 'SI_public_events',\n",
    "#        'SI_stay_home', 'SI_sum', 'constant', 'sdi']\n",
    "# # for n in range(0,len(old_names)):\n",
    "# #     cum_df.rename(columns={old_names[n]:new_names[n]},inplace=True)\n",
    "    \n"
   ]
  },
  {
   "cell_type": "code",
   "execution_count": 188,
   "metadata": {},
   "outputs": [],
   "source": [
    "time_to_event_case.sort_values(by=['country','day'],inplace=True)\n",
    "time_to_event_case['dup'] = time_to_event_case.duplicated('country',keep='last')\n",
    "time_to_event_death.sort_values(by=['country','day'],inplace=True)\n",
    "time_to_event_death['dup'] = time_to_event_case.duplicated('country',keep='last')"
   ]
  },
  {
   "cell_type": "code",
   "execution_count": 189,
   "metadata": {},
   "outputs": [],
   "source": [
    "final_tte_case = time_to_event_case.loc[~time_to_event_case.dup].drop(columns=['dup','peak_death', \n",
    "                                                                               'death_muli_peak','school_close', \n",
    "                                                                               'case_max_rol_mean7','work_close', \n",
    "                                                                               'public_transpo', 'domestic_travel',\n",
    "                                                                               'large_gather', 'public_events', 'stay_home'])\n",
    "final_tte_death = time_to_event_death.loc[~time_to_event_death.dup].drop(columns=['dup','peak_case', 'case_reported', \n",
    "                                                                                  'death_max_rol_mean7', 'death_rol_mean7',\n",
    "                                                                                  'school_close', 'work_close', 'public_transpo', \n",
    "                                                                                  'domestic_travel','large_gather', 'public_events', 'stay_home', ])"
   ]
  },
  {
   "cell_type": "code",
   "execution_count": 190,
   "metadata": {},
   "outputs": [
    {
     "data": {
      "text/html": [
       "<div>\n",
       "<style scoped>\n",
       "    .dataframe tbody tr th:only-of-type {\n",
       "        vertical-align: middle;\n",
       "    }\n",
       "\n",
       "    .dataframe tbody tr th {\n",
       "        vertical-align: top;\n",
       "    }\n",
       "\n",
       "    .dataframe thead th {\n",
       "        text-align: right;\n",
       "    }\n",
       "</style>\n",
       "<table border=\"1\" class=\"dataframe\">\n",
       "  <thead>\n",
       "    <tr style=\"text-align: right;\">\n",
       "      <th></th>\n",
       "      <th>country</th>\n",
       "      <th>peak_case</th>\n",
       "      <th>day</th>\n",
       "      <th>day_num</th>\n",
       "    </tr>\n",
       "  </thead>\n",
       "  <tbody>\n",
       "    <tr>\n",
       "      <th>102</th>\n",
       "      <td>afghanistan</td>\n",
       "      <td>1</td>\n",
       "      <td>103 days 00:00:00</td>\n",
       "      <td>103</td>\n",
       "    </tr>\n",
       "    <tr>\n",
       "      <th>350</th>\n",
       "      <td>albania</td>\n",
       "      <td>1</td>\n",
       "      <td>248 days 00:00:00</td>\n",
       "      <td>248</td>\n",
       "    </tr>\n",
       "    <tr>\n",
       "      <th>612</th>\n",
       "      <td>algeria</td>\n",
       "      <td>1</td>\n",
       "      <td>262 days 00:00:00</td>\n",
       "      <td>262</td>\n",
       "    </tr>\n",
       "    <tr>\n",
       "      <th>843</th>\n",
       "      <td>angola</td>\n",
       "      <td>1</td>\n",
       "      <td>231 days 00:00:00</td>\n",
       "      <td>231</td>\n",
       "    </tr>\n",
       "    <tr>\n",
       "      <th>1076</th>\n",
       "      <td>argentina</td>\n",
       "      <td>1</td>\n",
       "      <td>233 days 00:00:00</td>\n",
       "      <td>233</td>\n",
       "    </tr>\n",
       "    <tr>\n",
       "      <th>1323</th>\n",
       "      <td>armenia</td>\n",
       "      <td>1</td>\n",
       "      <td>247 days 00:00:00</td>\n",
       "      <td>247</td>\n",
       "    </tr>\n",
       "    <tr>\n",
       "      <th>1515</th>\n",
       "      <td>australia</td>\n",
       "      <td>1</td>\n",
       "      <td>192 days 00:00:00</td>\n",
       "      <td>192</td>\n",
       "    </tr>\n",
       "    <tr>\n",
       "      <th>1777</th>\n",
       "      <td>austria</td>\n",
       "      <td>1</td>\n",
       "      <td>262 days 00:00:00</td>\n",
       "      <td>262</td>\n",
       "    </tr>\n",
       "    <tr>\n",
       "      <th>2034</th>\n",
       "      <td>azerbaijan</td>\n",
       "      <td>1</td>\n",
       "      <td>257 days 00:00:00</td>\n",
       "      <td>257</td>\n",
       "    </tr>\n",
       "    <tr>\n",
       "      <th>2254</th>\n",
       "      <td>bahamas</td>\n",
       "      <td>1</td>\n",
       "      <td>220 days 00:00:00</td>\n",
       "      <td>220</td>\n",
       "    </tr>\n",
       "  </tbody>\n",
       "</table>\n",
       "</div>"
      ],
      "text/plain": [
       "          country  peak_case                day  day_num\n",
       "102   afghanistan          1  103 days 00:00:00      103\n",
       "350       albania          1  248 days 00:00:00      248\n",
       "612       algeria          1  262 days 00:00:00      262\n",
       "843        angola          1  231 days 00:00:00      231\n",
       "1076    argentina          1  233 days 00:00:00      233\n",
       "1323      armenia          1  247 days 00:00:00      247\n",
       "1515    australia          1  192 days 00:00:00      192\n",
       "1777      austria          1  262 days 00:00:00      262\n",
       "2034   azerbaijan          1  257 days 00:00:00      257\n",
       "2254      bahamas          1  220 days 00:00:00      220"
      ]
     },
     "execution_count": 190,
     "metadata": {},
     "output_type": "execute_result"
    }
   ],
   "source": [
    "final_tte_case[['country','peak_case','day','day_num']].head(10)"
   ]
  },
  {
   "cell_type": "code",
   "execution_count": 191,
   "metadata": {},
   "outputs": [
    {
     "data": {
      "text/plain": [
       "Index(['index', 'country', 'case_count', 'case_rol_mean7', 'date', 'pop_2020',\n",
       "       'pop_den_per_sqkm', 'un_population_division_median_age_2017',\n",
       "       'ages_65_and_above_of_total_population',\n",
       "       'prevalence_hivaids_sex_both_age_15_49_years_percent',\n",
       "       'deaths_hivaids_sex_both_age', 'diabetes_prev_ages_20_to_79',\n",
       "       'deaths_smoking_sex_both_age_age_standardized_rate',\n",
       "       'cancer_prevalence', 'htn_prevalence', 'copd_dalys_per_100000',\n",
       "       'obesity_ihme_2019', 'country_vulnerability', 'emergency_preparedness',\n",
       "       'gov_efficiency', 'quarantine_efficiency', 'total_score',\n",
       "       'mers_sars_quart', 'peak_case', 'case_peak_date', 'case_muli_peak',\n",
       "       'day', 'day_num', 'SI_school_close', 'SI_work_close',\n",
       "       'SI_public_transpo', 'SI_domestic_travel', 'SI_large_gather',\n",
       "       'SI_public_events', 'SI_stay_home', 'SI_sum', 'constant', 'sdi'],\n",
       "      dtype='object')"
      ]
     },
     "execution_count": 191,
     "metadata": {},
     "output_type": "execute_result"
    }
   ],
   "source": [
    "final_tte_case.columns"
   ]
  },
  {
   "cell_type": "code",
   "execution_count": 192,
   "metadata": {},
   "outputs": [
    {
     "data": {
      "text/html": [
       "<div>\n",
       "<style scoped>\n",
       "    .dataframe tbody tr th:only-of-type {\n",
       "        vertical-align: middle;\n",
       "    }\n",
       "\n",
       "    .dataframe tbody tr th {\n",
       "        vertical-align: top;\n",
       "    }\n",
       "\n",
       "    .dataframe thead th {\n",
       "        text-align: right;\n",
       "    }\n",
       "</style>\n",
       "<table border=\"1\" class=\"dataframe\">\n",
       "  <thead>\n",
       "    <tr style=\"text-align: right;\">\n",
       "      <th></th>\n",
       "      <th>country</th>\n",
       "      <th>peak_death</th>\n",
       "      <th>day</th>\n",
       "      <th>day_num</th>\n",
       "    </tr>\n",
       "  </thead>\n",
       "  <tbody>\n",
       "    <tr>\n",
       "      <th>102</th>\n",
       "      <td>afghanistan</td>\n",
       "      <td>0</td>\n",
       "      <td>103 days 00:00:00</td>\n",
       "      <td>103</td>\n",
       "    </tr>\n",
       "    <tr>\n",
       "      <th>350</th>\n",
       "      <td>albania</td>\n",
       "      <td>0</td>\n",
       "      <td>233 days 00:00:00</td>\n",
       "      <td>233</td>\n",
       "    </tr>\n",
       "    <tr>\n",
       "      <th>612</th>\n",
       "      <td>angola</td>\n",
       "      <td>0</td>\n",
       "      <td>199 days 00:00:00</td>\n",
       "      <td>199</td>\n",
       "    </tr>\n",
       "    <tr>\n",
       "      <th>843</th>\n",
       "      <td>argentina</td>\n",
       "      <td>0</td>\n",
       "      <td>221 days 00:00:00</td>\n",
       "      <td>221</td>\n",
       "    </tr>\n",
       "    <tr>\n",
       "      <th>1076</th>\n",
       "      <td>armenia</td>\n",
       "      <td>0</td>\n",
       "      <td>227 days 00:00:00</td>\n",
       "      <td>227</td>\n",
       "    </tr>\n",
       "    <tr>\n",
       "      <th>1323</th>\n",
       "      <td>austria</td>\n",
       "      <td>0</td>\n",
       "      <td>54 days 00:00:00</td>\n",
       "      <td>54</td>\n",
       "    </tr>\n",
       "    <tr>\n",
       "      <th>1515</th>\n",
       "      <td>austria</td>\n",
       "      <td>1</td>\n",
       "      <td>246 days 00:00:00</td>\n",
       "      <td>246</td>\n",
       "    </tr>\n",
       "    <tr>\n",
       "      <th>1777</th>\n",
       "      <td>bahamas</td>\n",
       "      <td>0</td>\n",
       "      <td>17 days 00:00:00</td>\n",
       "      <td>17</td>\n",
       "    </tr>\n",
       "    <tr>\n",
       "      <th>2034</th>\n",
       "      <td>bahrain</td>\n",
       "      <td>0</td>\n",
       "      <td>56 days 00:00:00</td>\n",
       "      <td>56</td>\n",
       "    </tr>\n",
       "    <tr>\n",
       "      <th>2254</th>\n",
       "      <td>bangladesh</td>\n",
       "      <td>0</td>\n",
       "      <td>57 days 00:00:00</td>\n",
       "      <td>57</td>\n",
       "    </tr>\n",
       "  </tbody>\n",
       "</table>\n",
       "</div>"
      ],
      "text/plain": [
       "          country  peak_death                day  day_num\n",
       "102   afghanistan           0  103 days 00:00:00      103\n",
       "350       albania           0  233 days 00:00:00      233\n",
       "612        angola           0  199 days 00:00:00      199\n",
       "843     argentina           0  221 days 00:00:00      221\n",
       "1076      armenia           0  227 days 00:00:00      227\n",
       "1323      austria           0   54 days 00:00:00       54\n",
       "1515      austria           1  246 days 00:00:00      246\n",
       "1777      bahamas           0   17 days 00:00:00       17\n",
       "2034      bahrain           0   56 days 00:00:00       56\n",
       "2254   bangladesh           0   57 days 00:00:00       57"
      ]
     },
     "execution_count": 192,
     "metadata": {},
     "output_type": "execute_result"
    }
   ],
   "source": [
    "final_tte_death[['country','peak_death','day','day_num']].head(10)"
   ]
  },
  {
   "cell_type": "markdown",
   "metadata": {},
   "source": [
    "# Exporting the Final Data Sets"
   ]
  },
  {
   "cell_type": "code",
   "execution_count": 193,
   "metadata": {},
   "outputs": [
    {
     "data": {
      "text/plain": [
       "Timestamp('2020-11-12 00:00:00')"
      ]
     },
     "execution_count": 193,
     "metadata": {},
     "output_type": "execute_result"
    }
   ],
   "source": [
    "final_tte_case.date.max()"
   ]
  },
  {
   "cell_type": "code",
   "execution_count": 110,
   "metadata": {},
   "outputs": [
    {
     "data": {
      "text/plain": [
       "Timestamp('2020-11-06 00:00:00')"
      ]
     },
     "execution_count": 110,
     "metadata": {},
     "output_type": "execute_result"
    }
   ],
   "source": [
    "finaldf.date.max()"
   ]
  },
  {
   "cell_type": "code",
   "execution_count": 194,
   "metadata": {},
   "outputs": [],
   "source": [
    "final_tte_case.to_excel(f'{out_data_path}\\\\COVID Time to Peak Case (Through {date}).xlsx',index=False)\n",
    "final_tte_death.to_excel(f'{out_data_path}\\\\COVID Time to Peak Death (Through {date}) (ver2).xlsx',index=False)\n",
    "cum_df.to_excel(f'{out_data_path}\\\\COVID Cumulative Incidence (Through {date}) (ver2).xlsx',index=False)\n",
    "finaldf.to_excel(f'{out_data_path}\\\\COVID Final Daily Report (Through {date}) (ver2).xlsx',index=False)"
   ]
  },
  {
   "cell_type": "markdown",
   "metadata": {},
   "source": [
    "## Exploring the Visual Relationship Between Case & Death Trends & Control Measures"
   ]
  },
  {
   "cell_type": "code",
   "execution_count": null,
   "metadata": {},
   "outputs": [],
   "source": [
    "ax = sns.lineplot(x='day_num', y='public_transpo', data=time_to_event_case)\n",
    "ax2 = ax.twinx()\n",
    "sns.lineplot(x='day_num', y='case_rol_mean7', data=time_to_event_case, ax=ax2)"
   ]
  },
  {
   "cell_type": "code",
   "execution_count": null,
   "metadata": {},
   "outputs": [],
   "source": [
    "counter = 0 \n",
    "country_list = []\n",
    "for country in time_to_event.loc[time_to_event.pop_2020 < 1000000].country.unique():\n",
    "    plt.title('Trend Line and Max Value Line Case Count')\n",
    "    country_list.append(country)\n",
    "    plt.figtext(0,0,country_list)\n",
    "    ax = sns.lineplot(x='date' , y='case_rol_mean7', data=time_to_event.loc[time_to_event.country == country],label=country)\n",
    "    plt.axhline(float(max_rol_mean_c.loc[max_rol_mean_c.country == country]['case_max_rol_mean7']))\n",
    "    ax2 = ax.twinx()\n",
    "    sns.lineplot(x='date' , y='peak_case', data=time_to_event.loc[time_to_event.country == country],label=f'Stay Home Status for {country}',ax=ax2,color='orange')\n",
    "    \n",
    "    counter += 1\n",
    "    if counter == 1:\n",
    "        print('DONE')\n",
    "        break"
   ]
  },
  {
   "cell_type": "code",
   "execution_count": null,
   "metadata": {},
   "outputs": [],
   "source": [
    "counter = 0 \n",
    "country_list = []\n",
    "for country in time_to_event.loc[time_to_event.pop_2020 < 70000].country.unique():\n",
    "    plt.title('Trend Line and Max Value Line Death Count')\n",
    "    country_list.append(country)\n",
    "    plt.figtext(0,0,country_list)\n",
    "    sns.lineplot(x='date' , y='death_rol_mean7', data=time_to_event.loc[time_to_event.country == country],label=country)\n",
    "    sns.lineplot(x='date' , y='stay_home', data=time_to_event.loc[time_to_event.country == country],label=f'Stay Home Status for {country}')\n",
    "    plt.axhline(float(max_rol_mean_d.loc[max_rol_mean_c.country == country]['death_max_rol_mean7']))\n",
    "    counter += 1\n",
    "    if counter == 1:\n",
    "        print('DONE')\n",
    "        break"
   ]
  },
  {
   "cell_type": "markdown",
   "metadata": {},
   "source": [
    "# Checking to see How often case count values are greater than 10\n",
    "doing this because the article 'Time Series Regression Model for Infectious Disease and Weather' indicated that it was important."
   ]
  },
  {
   "cell_type": "code",
   "execution_count": null,
   "metadata": {},
   "outputs": [],
   "source": [
    "test = pd.DataFrame()"
   ]
  },
  {
   "cell_type": "code",
   "execution_count": null,
   "metadata": {},
   "outputs": [],
   "source": [
    "test[['country','date','case','death']] = long_df_newcontrol[['country','date','case_count','death_count']]"
   ]
  },
  {
   "cell_type": "code",
   "execution_count": null,
   "metadata": {},
   "outputs": [],
   "source": [
    "test['g10'] = 0"
   ]
  },
  {
   "cell_type": "code",
   "execution_count": null,
   "metadata": {},
   "outputs": [],
   "source": [
    "test.loc[test.case >=10 ,'g10']=1"
   ]
  },
  {
   "cell_type": "code",
   "execution_count": null,
   "metadata": {},
   "outputs": [],
   "source": [
    "test.g10.value_counts()/test.shape[0]"
   ]
  },
  {
   "cell_type": "markdown",
   "metadata": {},
   "source": [
    "## trying to work out country linking stuff"
   ]
  },
  {
   "cell_type": "code",
   "execution_count": null,
   "metadata": {},
   "outputs": [],
   "source": [
    "def similar_check(q,l):\n",
    "    from fuzzywuzzy import fuzz,process\n",
    "    from Levenshtein import distance,ratio\n",
    "    import pandas as pd\n",
    "    jhu = []\n",
    "    similar = []\n",
    "    query = []\n",
    "    for countries in q:\n",
    "        results = process.extractOne(countries,list(jhu_country)) \n",
    "        if results[1] < 100:\n",
    "            jhu.append(results[0])\n",
    "            similar.append(results[1])\n",
    "            query.append(countries)\n",
    "    output = pd.DataFrame({'query_country':query, \n",
    "                          'similarity':similar,\n",
    "                           'jhu_country':jhu                       \n",
    "                          })\n",
    "    return output"
   ]
  },
  {
   "cell_type": "code",
   "execution_count": null,
   "metadata": {},
   "outputs": [],
   "source": [
    "# a list of the country names from each data set\n",
    "jhu_country = long_case.country.unique()\n",
    "ox_country = school.country.unique()\n",
    "gdp_country = gdp.country\n",
    "safe_country = safety.country\n",
    "og_country = og_data.country"
   ]
  },
  {
   "cell_type": "markdown",
   "metadata": {},
   "source": [
    "### Country Name Cleaner"
   ]
  },
  {
   "cell_type": "markdown",
   "metadata": {},
   "source": [
    "## Oxford Data Country Names"
   ]
  },
  {
   "cell_type": "code",
   "execution_count": null,
   "metadata": {},
   "outputs": [],
   "source": [
    "ox_check = similar_check(ox_country ,jhu_country)\n",
    "ox_check.sort_values(by='similarity', ascending=False)"
   ]
  },
  {
   "cell_type": "markdown",
   "metadata": {},
   "source": [
    "## GDP Data Country Names"
   ]
  },
  {
   "cell_type": "code",
   "execution_count": null,
   "metadata": {},
   "outputs": [],
   "source": [
    "gdp_check = similar_check(gdp_country ,jhu_country)\n",
    "gdp_check.sort_values(by='similarity', ascending=False)"
   ]
  },
  {
   "cell_type": "markdown",
   "metadata": {},
   "source": [
    "## Safety Data Country Names"
   ]
  },
  {
   "cell_type": "code",
   "execution_count": null,
   "metadata": {},
   "outputs": [],
   "source": [
    "safe_check = similar_check(safe_country ,jhu_country)\n",
    "safe_check.sort_values(by='similarity', ascending=False).head(50)"
   ]
  },
  {
   "cell_type": "markdown",
   "metadata": {},
   "source": [
    "## OG Data Country Names"
   ]
  },
  {
   "cell_type": "code",
   "execution_count": null,
   "metadata": {},
   "outputs": [],
   "source": [
    "og_check = similar_check(og_country ,jhu_country)\n",
    "og_check.sort_values(by='similarity', ascending=False)"
   ]
  },
  {
   "cell_type": "markdown",
   "metadata": {},
   "source": [
    "# Code Grave Yard"
   ]
  },
  {
   "cell_type": "markdown",
   "metadata": {},
   "source": [
    "### Importing the Oxford Control Measures Data Set (Ordinal)"
   ]
  }
 ],
 "metadata": {
  "kernelspec": {
   "display_name": "Python 3",
   "language": "python",
   "name": "python3"
  },
  "language_info": {
   "codemirror_mode": {
    "name": "ipython",
    "version": 3
   },
   "file_extension": ".py",
   "mimetype": "text/x-python",
   "name": "python",
   "nbconvert_exporter": "python",
   "pygments_lexer": "ipython3",
   "version": "3.7.6"
  }
 },
 "nbformat": 4,
 "nbformat_minor": 4
}
